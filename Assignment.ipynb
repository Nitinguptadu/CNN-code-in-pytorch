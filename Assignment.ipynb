{
 "cells": [
  {
   "cell_type": "markdown",
   "metadata": {},
   "source": [
    "# Providing link to connect google Drive"
   ]
  },
  {
   "cell_type": "code",
   "execution_count": 1,
   "metadata": {
    "colab": {
     "base_uri": "https://localhost:8080/",
     "height": 34
    },
    "colab_type": "code",
    "id": "uxxlbYpuNP1Y",
    "outputId": "d50e815f-0043-45f1-c291-1bdc2a04e661"
   },
   "outputs": [
    {
     "name": "stdout",
     "output_type": "stream",
     "text": [
      "Drive already mounted at /content/drive; to attempt to forcibly remount, call drive.mount(\"/content/drive\", force_remount=True).\n"
     ]
    }
   ],
   "source": [
    "# Load the Drive helper and mount\n",
    "from google.colab import drive\n",
    "\n",
    "# This will prompt for authorization.\n",
    "drive.mount('/content/drive')"
   ]
  },
  {
   "cell_type": "code",
   "execution_count": 2,
   "metadata": {
    "colab": {
     "base_uri": "https://localhost:8080/",
     "height": 34
    },
    "colab_type": "code",
    "id": "P6N2tym_NUCa",
    "outputId": "f6458883-360a-4d94-ca72-8894f5faf866"
   },
   "outputs": [
    {
     "name": "stdout",
     "output_type": "stream",
     "text": [
      "'category 1'  'category 2'  'category 3'  'category 4'\n"
     ]
    }
   ],
   "source": [
    "!ls \"/content/drive/My Drive/Dataset/train\""
   ]
  },
  {
   "cell_type": "markdown",
   "metadata": {},
   "source": [
    "# Importing Necessary module of deep learning"
   ]
  },
  {
   "cell_type": "code",
   "execution_count": 0,
   "metadata": {
    "colab": {},
    "colab_type": "code",
    "id": "Rg4EAs5gNtOt"
   },
   "outputs": [],
   "source": [
    "# Imports here\n",
    "%matplotlib inline\n",
    "%config InlineBackend.figure_format = 'retina'\n",
    "import matplotlib.pyplot as plt\n",
    "\n",
    "import torch\n",
    "import numpy as np\n",
    "from torch import nn\n",
    "from torch import optim\n",
    "import torch.nn.functional as F\n",
    "from torchvision import datasets, transforms, models\n",
    "from PIL import Image\n",
    "from collections import OrderedDict\n",
    "import json\n",
    "import torchvision \n",
    "import torch\n",
    "import torch.nn as nn\n",
    "import torch.optim as optim\n",
    "import torch.nn.functional as F\n",
    "\n",
    "import torchvision\n",
    "import torchvision.transforms as transforms\n",
    "import pdb\n",
    "\n",
    "torch.set_printoptions(linewidth=120)\n",
    "torch.set_grad_enabled(True) \n",
    "from torch.utils.tensorboard import SummaryWriter\n"
   ]
  },
  {
   "cell_type": "markdown",
   "metadata": {},
   "source": [
    "# Providing Path of Data "
   ]
  },
  {
   "cell_type": "code",
   "execution_count": 0,
   "metadata": {
    "colab": {},
    "colab_type": "code",
    "id": "zTuso-q9P4wi"
   },
   "outputs": [],
   "source": [
    "data_dir = \"/content/drive/My Drive/Dataset/\"\n",
    "train_dir = data_dir + '/train'\n",
    "test_dir = data_dir + '/test'\n",
    "using_gpu = torch.cuda.is_available()"
   ]
  },
  {
   "cell_type": "markdown",
   "metadata": {},
   "source": [
    "# Loading data in Data set in pytorch with Normalizing data For Train and Test set "
   ]
  },
  {
   "cell_type": "code",
   "execution_count": 0,
   "metadata": {
    "colab": {},
    "colab_type": "code",
    "id": "hMG-Nh9WQCyP"
   },
   "outputs": [],
   "source": [
    "train_set  = torchvision.datasets.ImageFolder(train_dir, \n",
    "                                        transform = transforms.Compose([transforms.ToTensor(),\n",
    "                                        transforms.Normalize([0.485, 0.456, 0.406], \n",
    "                                                            [0.229, 0.224, 0.225])])\n",
    "\n",
    " )"
   ]
  },
  {
   "cell_type": "code",
   "execution_count": 0,
   "metadata": {
    "colab": {},
    "colab_type": "code",
    "id": "f48XiczSQGJB"
   },
   "outputs": [],
   "source": [
    "test_set  = torchvision.datasets.ImageFolder(test_dir , \n",
    "                                        transform = transforms.Compose([transforms.ToTensor(),\n",
    "                                        transforms.Normalize([0.485, 0.456, 0.406], \n",
    "                                                            [0.229, 0.224, 0.225])])\n",
    "\n",
    " )"
   ]
  },
  {
   "cell_type": "markdown",
   "metadata": {},
   "source": [
    "# Loading data in Data loader with batch size for Train and Test data set "
   ]
  },
  {
   "cell_type": "code",
   "execution_count": 0,
   "metadata": {
    "colab": {},
    "colab_type": "code",
    "id": "jvg5CBgVQJ4U"
   },
   "outputs": [],
   "source": [
    "train_loader = torch.utils.data.DataLoader(train_set, batch_size=4, shuffle=True)"
   ]
  },
  {
   "cell_type": "code",
   "execution_count": 0,
   "metadata": {
    "colab": {},
    "colab_type": "code",
    "id": "uT-Z4ULRQNy8"
   },
   "outputs": [],
   "source": [
    "test_loader = torch.utils.data.DataLoader(test_set, batch_size=100, shuffle=True)"
   ]
  },
  {
   "cell_type": "markdown",
   "metadata": {},
   "source": [
    "# Defining classes for sub folders "
   ]
  },
  {
   "cell_type": "code",
   "execution_count": 0,
   "metadata": {
    "colab": {},
    "colab_type": "code",
    "id": "Lk_9lfG4QQDh"
   },
   "outputs": [],
   "source": [
    "classes = ('category 1','category 2','category 3','category 4')"
   ]
  },
  {
   "cell_type": "markdown",
   "metadata": {},
   "source": [
    "# Ploting pictures form train data set"
   ]
  },
  {
   "cell_type": "code",
   "execution_count": 10,
   "metadata": {
    "colab": {
     "base_uri": "https://localhost:8080/",
     "height": 169
    },
    "colab_type": "code",
    "id": "6VtMfmKhQS8y",
    "outputId": "27fc6647-4d42-4177-ee78-cf54840c63a7"
   },
   "outputs": [
    {
     "name": "stderr",
     "output_type": "stream",
     "text": [
      "Clipping input data to the valid range for imshow with RGB data ([0..1] for floats or [0..255] for integers).\n"
     ]
    },
    {
     "name": "stdout",
     "output_type": "stream",
     "text": [
      "category 2 category 3 category 2 category 3\n"
     ]
    },
    {
     "data": {
      "image/png": "[encoded data removed]",
      "text/plain": [
       "<Figure size 432x288 with 1 Axes>"
      ]
     },
     "metadata": {
      "image/png": {
       "height": 118,
       "width": 377
      },
      "tags": []
     },
     "output_type": "display_data"
    }
   ],
   "source": [
    "import matplotlib.pyplot as plt\n",
    "import numpy as np\n",
    "\n",
    "# functions to show an image\n",
    "\n",
    "\n",
    "def imshow(img):\n",
    "    img = img / 2 + 0.5     # unnormalize\n",
    "    npimg = img.numpy()\n",
    "    plt.imshow(np.transpose(npimg, (1, 2, 0)))\n",
    "\n",
    "\n",
    "# get some random training images\n",
    "dataiter = iter(train_loader)\n",
    "images, labels = dataiter.next()\n",
    "\n",
    "# show images\n",
    "imshow(torchvision.utils.make_grid(images))\n",
    "# print labels\n",
    "print(' '.join('%5s' % classes[labels[j]] for j in range(4)))"
   ]
  },
  {
   "cell_type": "markdown",
   "metadata": {},
   "source": [
    "# Creating function for Get Num Correct"
   ]
  },
  {
   "cell_type": "code",
   "execution_count": 0,
   "metadata": {
    "colab": {},
    "colab_type": "code",
    "id": "OoZtNYkMQVDI"
   },
   "outputs": [],
   "source": [
    "def get_num_correct(preds, labels):\n",
    "    return preds.argmax(dim=1).eq(labels).sum().item()\n"
   ]
  },
  {
   "cell_type": "markdown",
   "metadata": {},
   "source": [
    "# CNN Architecture"
   ]
  },
  {
   "cell_type": "code",
   "execution_count": 0,
   "metadata": {
    "colab": {},
    "colab_type": "code",
    "id": "evq-21k6QZrv"
   },
   "outputs": [],
   "source": [
    "class Network(nn.Module):\n",
    "    def __init__(self):\n",
    "        super(Network,self).__init__()\n",
    "        self.conv1 = nn.Conv2d(3, 6, kernel_size=5)\n",
    "        self.conv2 = nn.Conv2d(6, 12, kernel_size=5)\n",
    "        self.conv2_drop = nn.Dropout2d()\n",
    "        self.fc1 = nn.Linear(12*197*197, 120)\n",
    "        self.fc2 = nn.Linear(120, 60)\n",
    "\n",
    "\n",
    "    def forward(self, x):\n",
    "        x = F.relu(F.max_pool2d(self.conv1(x), 2))\n",
    "        x = F.relu(F.max_pool2d(self.conv2_drop(self.conv2(x)), 2))\n",
    "    # Torch infers this from other dimensions when one of the parameter is -1.\n",
    "        x = x.view(-1, 12 * 197 * 197)\n",
    "        x = F.relu(self.fc1(x))\n",
    "        x = F.dropout(x)\n",
    "        x = self.fc2(x)\n",
    "        return x"
   ]
  },
  {
   "cell_type": "code",
   "execution_count": 0,
   "metadata": {
    "colab": {},
    "colab_type": "code",
    "id": "88_KiiC9Qbs2"
   },
   "outputs": [],
   "source": [
    "network = Network()"
   ]
  },
  {
   "cell_type": "code",
   "execution_count": 14,
   "metadata": {
    "colab": {
     "base_uri": "https://localhost:8080/",
     "height": 153
    },
    "colab_type": "code",
    "id": "Ye-Tyo-yQeMn",
    "outputId": "018efa4a-6787-461f-b993-1a0cee884b93"
   },
   "outputs": [
    {
     "name": "stdout",
     "output_type": "stream",
     "text": [
      "conv1.weight \t\t torch.Size([6, 3, 5, 5])\n",
      "conv1.bias \t\t torch.Size([6])\n",
      "conv2.weight \t\t torch.Size([12, 6, 5, 5])\n",
      "conv2.bias \t\t torch.Size([12])\n",
      "fc1.weight \t\t torch.Size([120, 465708])\n",
      "fc1.bias \t\t torch.Size([120])\n",
      "fc2.weight \t\t torch.Size([60, 120])\n",
      "fc2.bias \t\t torch.Size([60])\n"
     ]
    }
   ],
   "source": [
    "for name, param in network.named_parameters():\n",
    "    print(name,'\\t\\t',param.shape)"
   ]
  },
  {
   "cell_type": "markdown",
   "metadata": {},
   "source": [
    "# For CNN we are using leraning rate = 0.00001 and optimizer Adam \n",
    "\n",
    "Learning rate and batch size is defined by using pytorch and Tensor board (Assignment 1)"
   ]
  },
  {
   "cell_type": "code",
   "execution_count": 0,
   "metadata": {
    "colab": {},
    "colab_type": "code",
    "id": "-kLl6jXQQhBK"
   },
   "outputs": [],
   "source": [
    "train_loader = torch.utils.data.DataLoader(train_set, batch_size=40)\n",
    "optimizer = optim.Adam(network.parameters(), lr=0.00001)\n",
    "  "
   ]
  },
  {
   "cell_type": "markdown",
   "metadata": {},
   "source": [
    "# Training a model from scratch \n",
    "No of epoch == 100 &\n",
    "Loss function == Cross Entropy"
   ]
  },
  {
   "cell_type": "code",
   "execution_count": 16,
   "metadata": {
    "colab": {
     "base_uri": "https://localhost:8080/",
     "height": 1000
    },
    "colab_type": "code",
    "id": "dP2Xg0bdQk_p",
    "outputId": "309eee3f-2707-4df9-b2f3-e9f5d6d7314f"
   },
   "outputs": [
    {
     "name": "stdout",
     "output_type": "stream",
     "text": [
      "epoch 0 total_correct: 63 loss: 58.5339560508728\n",
      "epoch 1 total_correct: 102 loss: 29.74691343307495\n",
      "epoch 2 total_correct: 115 loss: 28.054674744606018\n",
      "epoch 3 total_correct: 117 loss: 26.062203288078308\n",
      "epoch 4 total_correct: 138 loss: 24.790917992591858\n",
      "epoch 5 total_correct: 137 loss: 24.731898546218872\n",
      "epoch 6 total_correct: 155 loss: 23.05520486831665\n",
      "epoch 7 total_correct: 159 loss: 22.407034158706665\n",
      "epoch 8 total_correct: 187 loss: 21.25768208503723\n",
      "epoch 9 total_correct: 179 loss: 22.053018927574158\n",
      "epoch 10 total_correct: 211 loss: 19.948117971420288\n",
      "epoch 11 total_correct: 206 loss: 19.381755232810974\n",
      "epoch 12 total_correct: 203 loss: 19.145366609096527\n",
      "epoch 13 total_correct: 191 loss: 20.30350536108017\n",
      "epoch 14 total_correct: 222 loss: 18.02234661579132\n",
      "epoch 15 total_correct: 215 loss: 17.890782713890076\n",
      "epoch 16 total_correct: 217 loss: 17.970104217529297\n",
      "epoch 17 total_correct: 223 loss: 18.079862594604492\n",
      "epoch 18 total_correct: 234 loss: 16.737527906894684\n",
      "epoch 19 total_correct: 260 loss: 15.925200819969177\n",
      "epoch 20 total_correct: 231 loss: 16.997993230819702\n",
      "epoch 21 total_correct: 256 loss: 15.021675825119019\n",
      "epoch 22 total_correct: 267 loss: 15.338195323944092\n",
      "epoch 23 total_correct: 287 loss: 13.675560534000397\n",
      "epoch 24 total_correct: 257 loss: 14.9650799036026\n",
      "epoch 25 total_correct: 273 loss: 14.681941509246826\n",
      "epoch 26 total_correct: 282 loss: 13.773214876651764\n",
      "epoch 27 total_correct: 277 loss: 13.066572308540344\n",
      "epoch 28 total_correct: 290 loss: 12.207086086273193\n",
      "epoch 29 total_correct: 291 loss: 12.671619355678558\n",
      "epoch 30 total_correct: 313 loss: 11.58394742012024\n",
      "epoch 31 total_correct: 303 loss: 10.946097612380981\n",
      "epoch 32 total_correct: 311 loss: 10.680747628211975\n",
      "epoch 33 total_correct: 316 loss: 10.187935769557953\n",
      "epoch 34 total_correct: 325 loss: 9.172073245048523\n",
      "epoch 35 total_correct: 324 loss: 9.904236376285553\n",
      "epoch 36 total_correct: 326 loss: 9.720003604888916\n",
      "epoch 37 total_correct: 331 loss: 9.727342665195465\n",
      "epoch 38 total_correct: 344 loss: 8.796932399272919\n",
      "epoch 39 total_correct: 342 loss: 9.063257575035095\n",
      "epoch 40 total_correct: 350 loss: 7.407014101743698\n",
      "epoch 41 total_correct: 357 loss: 7.097246766090393\n",
      "epoch 42 total_correct: 336 loss: 8.291856586933136\n",
      "epoch 43 total_correct: 353 loss: 7.429433137178421\n",
      "epoch 44 total_correct: 330 loss: 9.121997326612473\n",
      "epoch 45 total_correct: 358 loss: 7.056421339511871\n",
      "epoch 46 total_correct: 347 loss: 7.506226748228073\n",
      "epoch 47 total_correct: 352 loss: 7.6638970375061035\n",
      "epoch 48 total_correct: 368 loss: 5.959396302700043\n",
      "epoch 49 total_correct: 353 loss: 6.811946272850037\n",
      "epoch 50 total_correct: 364 loss: 6.306596666574478\n",
      "epoch 51 total_correct: 368 loss: 6.028191894292831\n",
      "epoch 52 total_correct: 382 loss: 5.969465509057045\n",
      "epoch 53 total_correct: 388 loss: 5.320679500699043\n",
      "epoch 54 total_correct: 380 loss: 5.559592962265015\n",
      "epoch 55 total_correct: 363 loss: 5.973020642995834\n",
      "epoch 56 total_correct: 383 loss: 5.1692008674144745\n",
      "epoch 57 total_correct: 393 loss: 4.685200601816177\n",
      "epoch 58 total_correct: 353 loss: 6.872076869010925\n",
      "epoch 59 total_correct: 383 loss: 5.104850679636002\n",
      "epoch 60 total_correct: 379 loss: 4.832107216119766\n",
      "epoch 61 total_correct: 384 loss: 4.848114117980003\n",
      "epoch 62 total_correct: 372 loss: 5.053113266825676\n",
      "epoch 63 total_correct: 387 loss: 4.661706984043121\n",
      "epoch 64 total_correct: 373 loss: 5.258372738957405\n",
      "epoch 65 total_correct: 404 loss: 3.814873993396759\n",
      "epoch 66 total_correct: 379 loss: 4.965972051024437\n",
      "epoch 67 total_correct: 386 loss: 4.517867058515549\n",
      "epoch 68 total_correct: 399 loss: 4.115205094218254\n",
      "epoch 69 total_correct: 390 loss: 4.1492293030023575\n",
      "epoch 70 total_correct: 390 loss: 4.2782623916864395\n",
      "epoch 71 total_correct: 394 loss: 4.271314270794392\n",
      "epoch 72 total_correct: 400 loss: 3.500000476837158\n",
      "epoch 73 total_correct: 403 loss: 3.47080497443676\n",
      "epoch 74 total_correct: 400 loss: 3.6847482174634933\n",
      "epoch 75 total_correct: 405 loss: 3.4941758066415787\n",
      "epoch 76 total_correct: 407 loss: 3.377911202609539\n",
      "epoch 77 total_correct: 411 loss: 2.982412949204445\n",
      "epoch 78 total_correct: 390 loss: 3.682279884815216\n",
      "epoch 79 total_correct: 400 loss: 3.5863258987665176\n",
      "epoch 80 total_correct: 415 loss: 2.97243619710207\n",
      "epoch 81 total_correct: 402 loss: 3.415037676692009\n",
      "epoch 82 total_correct: 403 loss: 3.4002888202667236\n",
      "epoch 83 total_correct: 407 loss: 2.990404762327671\n",
      "epoch 84 total_correct: 402 loss: 3.1094956174492836\n",
      "epoch 85 total_correct: 417 loss: 2.9100163653492928\n",
      "epoch 86 total_correct: 420 loss: 2.1150820329785347\n",
      "epoch 87 total_correct: 412 loss: 2.6440186351537704\n",
      "epoch 88 total_correct: 408 loss: 3.2621719241142273\n",
      "epoch 89 total_correct: 408 loss: 2.8671378046274185\n",
      "epoch 90 total_correct: 419 loss: 2.450154632329941\n",
      "epoch 91 total_correct: 404 loss: 2.8340044766664505\n",
      "epoch 92 total_correct: 406 loss: 2.7150527089834213\n",
      "epoch 93 total_correct: 414 loss: 2.7244126982986927\n",
      "epoch 94 total_correct: 411 loss: 2.6718485802412033\n",
      "epoch 95 total_correct: 413 loss: 2.315405420958996\n",
      "epoch 96 total_correct: 417 loss: 2.487508274614811\n",
      "epoch 97 total_correct: 421 loss: 1.906983319669962\n",
      "epoch 98 total_correct: 416 loss: 2.5721605122089386\n",
      "epoch 99 total_correct: 420 loss: 1.8961108028888702\n"
     ]
    }
   ],
   "source": [
    "for epoch in range(100):\n",
    "\n",
    "    total_loss = 0\n",
    "    total_correct = 0\n",
    "\n",
    "    for batch in train_loader: # Get Batch # completed 6000 image in single epoch with \n",
    "                               # batch size 100 \n",
    "        images, labels = batch \n",
    "\n",
    "        preds = network(images) # Pass Batch\n",
    "        loss = F.cross_entropy(preds, labels) # Calculate Loss\n",
    "\n",
    "        optimizer.zero_grad() # doning zero grad value after every mini batch \n",
    "        loss.backward() # Calculate Gradients\n",
    "        optimizer.step() # Update Weights\n",
    "\n",
    "        total_loss += loss.item()\n",
    "        total_correct += get_num_correct(preds, labels)\n",
    "\n",
    "    print(\n",
    "        \"epoch\", epoch, \n",
    "        \"total_correct:\", total_correct, \n",
    "        \"loss:\", total_loss\n",
    "    )\n",
    "\n"
   ]
  },
  {
   "cell_type": "markdown",
   "metadata": {},
   "source": [
    "# Passing test data in model "
   ]
  },
  {
   "cell_type": "code",
   "execution_count": 0,
   "metadata": {
    "colab": {},
    "colab_type": "code",
    "id": "pCs0jZWuQsjz"
   },
   "outputs": [],
   "source": [
    "@torch.no_grad() # this function used for setting of the Gradient tracking\n",
    "def get_all_preds(model, loader):\n",
    "    all_preds = torch.tensor([])\n",
    "    for batch in prediction_loader:\n",
    "        images, labels = batch\n",
    "\n",
    "        preds = model(images)\n",
    "        all_preds = torch.cat((all_preds, preds),dim=0)\n",
    "    return all_preds"
   ]
  },
  {
   "cell_type": "markdown",
   "metadata": {},
   "source": [
    "# Passing  Test Data  "
   ]
  },
  {
   "cell_type": "code",
   "execution_count": 0,
   "metadata": {
    "colab": {},
    "colab_type": "code",
    "id": "ELOMJMOoQxBd"
   },
   "outputs": [],
   "source": [
    "with torch.no_grad():\n",
    "    prediction_loader = torch.utils.data.DataLoader(test_set, batch_size=4)\n",
    "    test_preds = get_all_preds(network, prediction_loader)"
   ]
  },
  {
   "cell_type": "code",
   "execution_count": 0,
   "metadata": {
    "colab": {},
    "colab_type": "code",
    "id": "BAi4xdTVQzMT"
   },
   "outputs": [],
   "source": [
    "import numpy\n",
    "test_set.targets = torch.from_numpy(numpy.array(test_set.targets, dtype='int64'))"
   ]
  },
  {
   "cell_type": "markdown",
   "metadata": {},
   "source": [
    "# Printing Result Getting accuracy 96 %"
   ]
  },
  {
   "cell_type": "code",
   "execution_count": 20,
   "metadata": {
    "colab": {
     "base_uri": "https://localhost:8080/",
     "height": 51
    },
    "colab_type": "code",
    "id": "SM-xwTH_Q097",
    "outputId": "ad932e6a-0b49-40bf-a1e3-5226af2c7e84"
   },
   "outputs": [
    {
     "name": "stdout",
     "output_type": "stream",
     "text": [
      "total correct: 29\n",
      "accuracy: 96.66666666666667\n"
     ]
    }
   ],
   "source": [
    "preds_correct = get_num_correct(test_preds, test_set.targets)\n",
    "\n",
    "print('total correct:', preds_correct)\n",
    "print('accuracy:', preds_correct / len(test_set)*100)\n"
   ]
  },
  {
   "cell_type": "code",
   "execution_count": 0,
   "metadata": {
    "colab": {},
    "colab_type": "code",
    "id": "ktZIVLOXQ2yj"
   },
   "outputs": [],
   "source": []
  }
 ],
 "metadata": {
  "accelerator": "TPU",
  "colab": {
   "name": "Assignment.ipynb",
   "provenance": [],
   "version": "0.3.2"
  },
  "kernelspec": {
   "display_name": "Python 3",
   "language": "python",
   "name": "python3"
  },
  "language_info": {
   "codemirror_mode": {
    "name": "ipython",
    "version": 3
   },
   "file_extension": ".py",
   "mimetype": "text/x-python",
   "name": "python",
   "nbconvert_exporter": "python",
   "pygments_lexer": "ipython3",
   "version": "3.7.1"
  }
 },
 "nbformat": 4,
 "nbformat_minor": 1
}
