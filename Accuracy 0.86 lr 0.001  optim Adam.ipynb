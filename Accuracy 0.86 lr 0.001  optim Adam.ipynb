{
 "cells": [
  {
   "cell_type": "code",
   "execution_count": 1,
   "metadata": {},
   "outputs": [
    {
     "name": "stderr",
     "output_type": "stream",
     "text": [
      "WARNING:root:This caffe2 python run does not have GPU support. Will run in CPU only mode.\n"
     ]
    }
   ],
   "source": [
    "# Imports here\n",
    "%matplotlib inline\n",
    "%config InlineBackend.figure_format = 'retina'\n",
    "import matplotlib.pyplot as plt\n",
    "\n",
    "import torch\n",
    "import numpy as np\n",
    "from torch import nn\n",
    "from torch import optim\n",
    "import torch.nn.functional as F\n",
    "from torchvision import datasets, transforms, models\n",
    "from PIL import Image\n",
    "from collections import OrderedDict\n",
    "import json\n",
    "import torchvision \n",
    "import torch\n",
    "import torch.nn as nn\n",
    "import torch.optim as optim\n",
    "import torch.nn.functional as F\n",
    "\n",
    "import torchvision\n",
    "import torchvision.transforms as transforms\n",
    "import pdb\n",
    "\n",
    "torch.set_printoptions(linewidth=120)\n",
    "torch.set_grad_enabled(True) \n",
    "from torch.utils.tensorboard import SummaryWriter\n"
   ]
  },
  {
   "cell_type": "code",
   "execution_count": 2,
   "metadata": {},
   "outputs": [],
   "source": [
    "data_dir = 'Dataset'\n",
    "train_dir = data_dir + '/train'\n",
    "test_dir = data_dir + '/test'\n",
    "using_gpu = torch.cuda.is_available()"
   ]
  },
  {
   "cell_type": "code",
   "execution_count": 3,
   "metadata": {},
   "outputs": [],
   "source": [
    "#train_transforms = transforms.Compose([transforms.ToTensor(),\n",
    "                                       #transforms.Normalize([0.485, 0.456, 0.406], \n",
    "                                                           # [0.229, 0.224, 0.225])])\n",
    "\n"
   ]
  },
  {
   "cell_type": "code",
   "execution_count": 4,
   "metadata": {},
   "outputs": [],
   "source": [
    "#train_transform  = tv.transforms.Compose([tv.transforms.Grayscale(num_output_channels=1),\n",
    "                                    #tv.transforms.ToTensor(), \n",
    "                                    #tv.transforms.Normalize((0.5, 0.5, 0.5), (0.5, 0.5, 0.5))])"
   ]
  },
  {
   "cell_type": "code",
   "execution_count": 5,
   "metadata": {},
   "outputs": [],
   "source": [
    "data_transform = transforms.Compose([\n",
    "        transforms.RandomResizedCrop(32),\n",
    "        transforms.RandomHorizontalFlip(),\n",
    "        transforms.RandomRotation(10),\n",
    "        transforms.ToTensor(),\n",
    "    ])"
   ]
  },
  {
   "cell_type": "code",
   "execution_count": 21,
   "metadata": {},
   "outputs": [],
   "source": [
    "train_set  = torchvision.datasets.ImageFolder(train_dir, \n",
    "                                        transform = transforms.Compose([transforms.ToTensor(),\n",
    "                                        transforms.Normalize([0.485, 0.456, 0.406], \n",
    "                                                            [0.229, 0.224, 0.225])])\n",
    "\n",
    " )"
   ]
  },
  {
   "cell_type": "code",
   "execution_count": 23,
   "metadata": {},
   "outputs": [],
   "source": [
    "test_set  = torchvision.datasets.ImageFolder(test_dir , \n",
    "                                        transform = transforms.Compose([transforms.ToTensor(),\n",
    "                                        transforms.Normalize([0.485, 0.456, 0.406], \n",
    "                                                            [0.229, 0.224, 0.225])])\n",
    "\n",
    " )"
   ]
  },
  {
   "cell_type": "code",
   "execution_count": 7,
   "metadata": {},
   "outputs": [],
   "source": [
    "train_loader = torch.utils.data.DataLoader(train_set, batch_size=4, shuffle=True)"
   ]
  },
  {
   "cell_type": "code",
   "execution_count": 24,
   "metadata": {},
   "outputs": [],
   "source": [
    "test_loader = torch.utils.data.DataLoader(test_set, batch_size=100, shuffle=True)"
   ]
  },
  {
   "cell_type": "code",
   "execution_count": 8,
   "metadata": {},
   "outputs": [],
   "source": [
    "classes = ('category 1','category 2','category 3','category 4')"
   ]
  },
  {
   "cell_type": "code",
   "execution_count": 9,
   "metadata": {},
   "outputs": [
    {
     "name": "stderr",
     "output_type": "stream",
     "text": [
      "WARNING:matplotlib.image:Clipping input data to the valid range for imshow with RGB data ([0..1] for floats or [0..255] for integers).\n"
     ]
    },
    {
     "name": "stdout",
     "output_type": "stream",
     "text": [
      "category 2 category 4 category 4 category 4\n"
     ]
    },
    {
     "data": {
      "image/png": "[encoded data removed]",
      "text/plain": [
       "<Figure size 432x288 with 1 Axes>"
      ]
     },
     "metadata": {
      "image/png": {
       "height": 118,
       "width": 377
      },
      "needs_background": "light"
     },
     "output_type": "display_data"
    }
   ],
   "source": [
    "import matplotlib.pyplot as plt\n",
    "import numpy as np\n",
    "\n",
    "# functions to show an image\n",
    "\n",
    "\n",
    "def imshow(img):\n",
    "    img = img / 2 + 0.5     # unnormalize\n",
    "    npimg = img.numpy()\n",
    "    plt.imshow(np.transpose(npimg, (1, 2, 0)))\n",
    "\n",
    "\n",
    "# get some random training images\n",
    "dataiter = iter(train_loader)\n",
    "images, labels = dataiter.next()\n",
    "\n",
    "# show images\n",
    "imshow(torchvision.utils.make_grid(images))\n",
    "# print labels\n",
    "print(' '.join('%5s' % classes[labels[j]] for j in range(4)))"
   ]
  },
  {
   "cell_type": "code",
   "execution_count": 10,
   "metadata": {},
   "outputs": [],
   "source": [
    "def get_num_correct(preds, labels):\n",
    "    return preds.argmax(dim=1).eq(labels).sum().item()\n"
   ]
  },
  {
   "cell_type": "code",
   "execution_count": 11,
   "metadata": {},
   "outputs": [],
   "source": [
    "class Network(nn.Module):\n",
    "    def __init__(self):\n",
    "        super(Network,self).__init__()\n",
    "        self.conv1 = nn.Conv2d(3, 6, kernel_size=5)\n",
    "        self.conv2 = nn.Conv2d(6, 12, kernel_size=5)\n",
    "        self.conv2_drop = nn.Dropout2d()\n",
    "        self.fc1 = nn.Linear(12*197*197, 120)\n",
    "        self.fc2 = nn.Linear(120, 60)\n",
    "\n",
    "\n",
    "    def forward(self, x):\n",
    "        x = F.relu(F.max_pool2d(self.conv1(x), 2))\n",
    "        x = F.relu(F.max_pool2d(self.conv2_drop(self.conv2(x)), 2))\n",
    "    # Reshaping the tensor to BATCH_SIZE x 320. Torch infers this from other dimensions when one of the parameter is -1.\n",
    "        x = x.view(-1, 12 * 197 * 197)\n",
    "        x = F.relu(self.fc1(x))\n",
    "        x = F.dropout(x)\n",
    "        x = self.fc2(x)\n",
    "        return x"
   ]
  },
  {
   "cell_type": "code",
   "execution_count": 12,
   "metadata": {},
   "outputs": [],
   "source": [
    "network = Network()"
   ]
  },
  {
   "cell_type": "code",
   "execution_count": 13,
   "metadata": {},
   "outputs": [
    {
     "name": "stdout",
     "output_type": "stream",
     "text": [
      "conv1.weight \t\t torch.Size([6, 3, 5, 5])\n",
      "conv1.bias \t\t torch.Size([6])\n",
      "conv2.weight \t\t torch.Size([12, 6, 5, 5])\n",
      "conv2.bias \t\t torch.Size([12])\n",
      "fc1.weight \t\t torch.Size([120, 465708])\n",
      "fc1.bias \t\t torch.Size([120])\n",
      "fc2.weight \t\t torch.Size([60, 120])\n",
      "fc2.bias \t\t torch.Size([60])\n"
     ]
    }
   ],
   "source": [
    "for name, param in network.named_parameters():\n",
    "    print(name,'\\t\\t',param.shape)"
   ]
  },
  {
   "cell_type": "code",
   "execution_count": 14,
   "metadata": {},
   "outputs": [],
   "source": [
    "train_loader = torch.utils.data.DataLoader(train_set, batch_size=40)\n",
    "optimizer = optim.Adam(network.parameters(), lr=0.001)\n",
    "  "
   ]
  },
  {
   "cell_type": "code",
   "execution_count": 15,
   "metadata": {},
   "outputs": [
    {
     "name": "stdout",
     "output_type": "stream",
     "text": [
      "epoch 0 total_correct: 68 loss: 709.498152256012\n",
      "epoch 1 total_correct: 83 loss: 44.65960192680359\n",
      "epoch 2 total_correct: 80 loss: 35.577192306518555\n",
      "epoch 3 total_correct: 83 loss: 35.92983651161194\n",
      "epoch 4 total_correct: 80 loss: 36.18682789802551\n",
      "epoch 5 total_correct: 110 loss: 28.855047583580017\n",
      "epoch 6 total_correct: 135 loss: 24.90483808517456\n",
      "epoch 7 total_correct: 156 loss: 25.59998059272766\n",
      "epoch 8 total_correct: 78 loss: 27.904807448387146\n",
      "epoch 9 total_correct: 156 loss: 20.48712944984436\n",
      "epoch 10 total_correct: 131 loss: 20.71428394317627\n",
      "epoch 11 total_correct: 148 loss: 19.104055881500244\n",
      "epoch 12 total_correct: 144 loss: 18.79763376712799\n",
      "epoch 13 total_correct: 194 loss: 19.218762397766113\n",
      "epoch 14 total_correct: 220 loss: 17.254300951957703\n",
      "epoch 15 total_correct: 242 loss: 16.192265391349792\n",
      "epoch 16 total_correct: 246 loss: 13.504093766212463\n",
      "epoch 17 total_correct: 281 loss: 11.422300338745117\n",
      "epoch 18 total_correct: 296 loss: 11.534913539886475\n",
      "epoch 19 total_correct: 298 loss: 9.949832737445831\n",
      "epoch 20 total_correct: 337 loss: 7.587617337703705\n",
      "epoch 21 total_correct: 332 loss: 7.73040583729744\n",
      "epoch 22 total_correct: 338 loss: 7.255441844463348\n",
      "epoch 23 total_correct: 355 loss: 6.724722057580948\n",
      "epoch 24 total_correct: 368 loss: 5.781168520450592\n",
      "epoch 25 total_correct: 377 loss: 4.648484244942665\n",
      "epoch 26 total_correct: 370 loss: 5.23933270573616\n",
      "epoch 27 total_correct: 386 loss: 4.2326012551784515\n",
      "epoch 28 total_correct: 397 loss: 4.1306557059288025\n",
      "epoch 29 total_correct: 393 loss: 3.1236844211816788\n",
      "epoch 30 total_correct: 385 loss: 3.98438224196434\n",
      "epoch 31 total_correct: 399 loss: 3.521832376718521\n",
      "epoch 32 total_correct: 389 loss: 3.68460413813591\n",
      "epoch 33 total_correct: 412 loss: 2.534625004976988\n",
      "epoch 34 total_correct: 417 loss: 2.568728007376194\n",
      "epoch 35 total_correct: 402 loss: 2.96517550945282\n",
      "epoch 36 total_correct: 413 loss: 2.1774682216346264\n",
      "epoch 37 total_correct: 401 loss: 2.86401104927063\n",
      "epoch 38 total_correct: 417 loss: 1.7926798984408379\n",
      "epoch 39 total_correct: 419 loss: 1.9113494232296944\n",
      "epoch 40 total_correct: 429 loss: 1.248926766216755\n",
      "epoch 41 total_correct: 420 loss: 2.2740041315555573\n",
      "epoch 42 total_correct: 420 loss: 2.0283443331718445\n",
      "epoch 43 total_correct: 414 loss: 2.570644088089466\n",
      "epoch 44 total_correct: 426 loss: 1.3997431807219982\n",
      "epoch 45 total_correct: 416 loss: 2.3720458671450615\n",
      "epoch 46 total_correct: 418 loss: 1.7511323057115078\n",
      "epoch 47 total_correct: 425 loss: 1.1500694118440151\n",
      "epoch 48 total_correct: 427 loss: 1.199468182399869\n",
      "epoch 49 total_correct: 427 loss: 1.184719741344452\n",
      "epoch 50 total_correct: 425 loss: 1.1439692787826061\n",
      "epoch 51 total_correct: 427 loss: 0.9702808707952499\n",
      "epoch 52 total_correct: 424 loss: 1.4182254113256931\n",
      "epoch 53 total_correct: 427 loss: 0.9815637860447168\n",
      "epoch 54 total_correct: 428 loss: 0.8494111166801304\n",
      "epoch 55 total_correct: 424 loss: 0.9966831859201193\n",
      "epoch 56 total_correct: 431 loss: 0.942057023756206\n",
      "epoch 57 total_correct: 427 loss: 1.0937024913728237\n",
      "epoch 58 total_correct: 431 loss: 1.1119566233828664\n",
      "epoch 59 total_correct: 428 loss: 1.245290294289589\n",
      "epoch 60 total_correct: 438 loss: 0.5946138380095363\n",
      "epoch 61 total_correct: 428 loss: 0.9461412742966786\n",
      "epoch 62 total_correct: 428 loss: 0.8819285035133362\n",
      "epoch 63 total_correct: 425 loss: 1.4437989369034767\n",
      "epoch 64 total_correct: 427 loss: 1.035216591320932\n",
      "epoch 65 total_correct: 430 loss: 1.041205022484064\n",
      "epoch 66 total_correct: 427 loss: 1.1016201036982238\n",
      "epoch 67 total_correct: 426 loss: 1.134872043505311\n",
      "epoch 68 total_correct: 429 loss: 0.7935522478073835\n",
      "epoch 69 total_correct: 426 loss: 1.3047045059502125\n",
      "epoch 70 total_correct: 424 loss: 1.1465011686086655\n",
      "epoch 71 total_correct: 426 loss: 0.9171146448643412\n",
      "epoch 72 total_correct: 431 loss: 0.8999957256019115\n",
      "epoch 73 total_correct: 435 loss: 0.5581556633114815\n",
      "epoch 74 total_correct: 433 loss: 0.7102072034031153\n",
      "epoch 75 total_correct: 431 loss: 0.7371856682002544\n",
      "epoch 76 total_correct: 437 loss: 0.6114828726276755\n",
      "epoch 77 total_correct: 433 loss: 0.5047225872986019\n",
      "epoch 78 total_correct: 435 loss: 0.424537728424184\n",
      "epoch 79 total_correct: 432 loss: 0.5839162520132959\n",
      "epoch 80 total_correct: 435 loss: 0.5003611616557464\n",
      "epoch 81 total_correct: 432 loss: 0.5754782168660313\n",
      "epoch 82 total_correct: 429 loss: 0.7370039261877537\n",
      "epoch 83 total_correct: 431 loss: 0.6213144147768617\n",
      "epoch 84 total_correct: 438 loss: 0.5326190015184693\n",
      "epoch 85 total_correct: 435 loss: 0.6897530793212354\n",
      "epoch 86 total_correct: 437 loss: 0.514020960952621\n",
      "epoch 87 total_correct: 437 loss: 0.512127598747611\n",
      "epoch 88 total_correct: 434 loss: 0.5929464566652314\n",
      "epoch 89 total_correct: 435 loss: 0.3414336359128356\n",
      "epoch 90 total_correct: 432 loss: 0.5412139054387808\n",
      "epoch 91 total_correct: 432 loss: 0.5215659907553345\n",
      "epoch 92 total_correct: 435 loss: 0.5053097880445421\n",
      "epoch 93 total_correct: 432 loss: 0.3587258693005424\n",
      "epoch 94 total_correct: 438 loss: 0.2562523481901735\n",
      "epoch 95 total_correct: 431 loss: 0.824915733654052\n",
      "epoch 96 total_correct: 436 loss: 0.2955150248890277\n",
      "epoch 97 total_correct: 436 loss: 0.39582912879996\n",
      "epoch 98 total_correct: 434 loss: 0.3534876952180639\n",
      "epoch 99 total_correct: 433 loss: 0.5312495935359038\n"
     ]
    }
   ],
   "source": [
    "for epoch in range(100):\n",
    "\n",
    "    total_loss = 0\n",
    "    total_correct = 0\n",
    "\n",
    "    for batch in train_loader: # Get Batch # completed 6000 image in single epoch with \n",
    "                               # batch size 100 \n",
    "        images, labels = batch \n",
    "\n",
    "        preds = network(images) # Pass Batch\n",
    "        loss = F.cross_entropy(preds, labels) # Calculate Loss\n",
    "\n",
    "        optimizer.zero_grad() # doning zero grad value after every mini batch \n",
    "        loss.backward() # Calculate Gradients\n",
    "        optimizer.step() # Update Weights\n",
    "\n",
    "        total_loss += loss.item()\n",
    "        total_correct += get_num_correct(preds, labels)\n",
    "\n",
    "    print(\n",
    "        \"epoch\", epoch, \n",
    "        \"total_correct:\", total_correct, \n",
    "        \"loss:\", total_loss\n",
    "    )\n",
    "\n"
   ]
  },
  {
   "cell_type": "code",
   "execution_count": 16,
   "metadata": {},
   "outputs": [],
   "source": [
    "@torch.no_grad()\n",
    "def get_all_preds(model, loader):\n",
    "    all_preds = torch.tensor([])\n",
    "    for batch in prediction_loader:\n",
    "        images, labels = batch\n",
    "\n",
    "        preds = model(images)\n",
    "        all_preds = torch.cat((all_preds, preds),dim=0)\n",
    "    return all_preds"
   ]
  },
  {
   "cell_type": "code",
   "execution_count": 25,
   "metadata": {},
   "outputs": [],
   "source": [
    "with torch.no_grad():\n",
    "    prediction_loader = torch.utils.data.DataLoader(test_set, batch_size=4)\n",
    "    test_preds = get_all_preds(network, prediction_loader)"
   ]
  },
  {
   "cell_type": "code",
   "execution_count": 26,
   "metadata": {},
   "outputs": [],
   "source": [
    "import numpy\n",
    "test_set.targets = torch.from_numpy(numpy.array(test_set.targets, dtype='int64'))"
   ]
  },
  {
   "cell_type": "code",
   "execution_count": 27,
   "metadata": {},
   "outputs": [
    {
     "name": "stdout",
     "output_type": "stream",
     "text": [
      "total correct: 26\n",
      "accuracy: 0.8666666666666667\n"
     ]
    }
   ],
   "source": [
    "preds_correct = get_num_correct(test_preds, test_set.targets)\n",
    "\n",
    "print('total correct:', preds_correct)\n",
    "print('accuracy:', preds_correct / len(test_set))\n"
   ]
  },
  {
   "cell_type": "code",
   "execution_count": 20,
   "metadata": {},
   "outputs": [],
   "source": [
    "#pt_tensor_from_list = torch.FloatTensor(image_trainset.targets)"
   ]
  }
 ],
 "metadata": {
  "kernelspec": {
   "display_name": "Python 3",
   "language": "python",
   "name": "python3"
  },
  "language_info": {
   "codemirror_mode": {
    "name": "ipython",
    "version": 3
   },
   "file_extension": ".py",
   "mimetype": "text/x-python",
   "name": "python",
   "nbconvert_exporter": "python",
   "pygments_lexer": "ipython3",
   "version": "3.7.1"
  }
 },
 "nbformat": 4,
 "nbformat_minor": 2
}
