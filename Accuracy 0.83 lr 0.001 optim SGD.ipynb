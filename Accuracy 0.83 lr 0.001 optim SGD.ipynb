{
 "cells": [
  {
   "cell_type": "code",
   "execution_count": 1,
   "metadata": {},
   "outputs": [
    {
     "name": "stderr",
     "output_type": "stream",
     "text": [
      "WARNING:root:This caffe2 python run does not have GPU support. Will run in CPU only mode.\n"
     ]
    }
   ],
   "source": [
    "# Imports here\n",
    "%matplotlib inline\n",
    "%config InlineBackend.figure_format = 'retina'\n",
    "import matplotlib.pyplot as plt\n",
    "\n",
    "import torch\n",
    "import numpy as np\n",
    "from torch import nn\n",
    "from torch import optim\n",
    "import torch.nn.functional as F\n",
    "from torchvision import datasets, transforms, models\n",
    "from PIL import Image\n",
    "from collections import OrderedDict\n",
    "import json\n",
    "import torchvision \n",
    "import torch\n",
    "import torch.nn as nn\n",
    "import torch.optim as optim\n",
    "import torch.nn.functional as F\n",
    "\n",
    "import torchvision\n",
    "import torchvision.transforms as transforms\n",
    "import pdb\n",
    "\n",
    "torch.set_printoptions(linewidth=120)\n",
    "torch.set_grad_enabled(True) \n",
    "from torch.utils.tensorboard import SummaryWriter\n"
   ]
  },
  {
   "cell_type": "code",
   "execution_count": 2,
   "metadata": {},
   "outputs": [],
   "source": [
    "data_dir = 'Dataset'\n",
    "train_dir = data_dir + '/train'\n",
    "test_dir = data_dir + '/test'\n",
    "using_gpu = torch.cuda.is_available()"
   ]
  },
  {
   "cell_type": "code",
   "execution_count": 3,
   "metadata": {},
   "outputs": [],
   "source": [
    "#train_transforms = transforms.Compose([transforms.ToTensor(),\n",
    "                                       #transforms.Normalize([0.485, 0.456, 0.406], \n",
    "                                                           # [0.229, 0.224, 0.225])])\n",
    "\n"
   ]
  },
  {
   "cell_type": "code",
   "execution_count": 4,
   "metadata": {},
   "outputs": [],
   "source": [
    "#train_transform  = tv.transforms.Compose([tv.transforms.Grayscale(num_output_channels=1),\n",
    "                                    #tv.transforms.ToTensor(), \n",
    "                                    #tv.transforms.Normalize((0.5, 0.5, 0.5), (0.5, 0.5, 0.5))])"
   ]
  },
  {
   "cell_type": "code",
   "execution_count": 5,
   "metadata": {},
   "outputs": [],
   "source": [
    "data_transform = transforms.Compose([\n",
    "        transforms.RandomResizedCrop(32),\n",
    "        transforms.RandomHorizontalFlip(),\n",
    "        transforms.RandomRotation(10),\n",
    "        transforms.ToTensor(),\n",
    "    ])"
   ]
  },
  {
   "cell_type": "code",
   "execution_count": 6,
   "metadata": {},
   "outputs": [],
   "source": [
    "train_set  = torchvision.datasets.ImageFolder(train_dir, \n",
    "                                        transform = transforms.Compose([transforms.ToTensor(),\n",
    "                                        transforms.Normalize([0.485, 0.456, 0.406], \n",
    "                                                            [0.229, 0.224, 0.225])])\n",
    "\n",
    " )"
   ]
  },
  {
   "cell_type": "code",
   "execution_count": 21,
   "metadata": {},
   "outputs": [],
   "source": [
    "test_set  = torchvision.datasets.ImageFolder(test_dir , \n",
    "                                        transform = transforms.Compose([transforms.ToTensor(),\n",
    "                                        transforms.Normalize([0.485, 0.456, 0.406], \n",
    "                                                            [0.229, 0.224, 0.225])])\n",
    "\n",
    " )"
   ]
  },
  {
   "cell_type": "code",
   "execution_count": 7,
   "metadata": {},
   "outputs": [],
   "source": [
    "train_loader = torch.utils.data.DataLoader(train_set, batch_size=4, shuffle=True)"
   ]
  },
  {
   "cell_type": "code",
   "execution_count": 22,
   "metadata": {},
   "outputs": [],
   "source": [
    "test_loader = torch.utils.data.DataLoader(test_set, batch_size=100, shuffle=True)"
   ]
  },
  {
   "cell_type": "code",
   "execution_count": 8,
   "metadata": {},
   "outputs": [],
   "source": [
    "classes = ('category 1','category 2','category 3','category 4')"
   ]
  },
  {
   "cell_type": "code",
   "execution_count": 9,
   "metadata": {},
   "outputs": [
    {
     "name": "stderr",
     "output_type": "stream",
     "text": [
      "WARNING:matplotlib.image:Clipping input data to the valid range for imshow with RGB data ([0..1] for floats or [0..255] for integers).\n"
     ]
    },
    {
     "name": "stdout",
     "output_type": "stream",
     "text": [
      "category 3 category 2 category 1 category 2\n"
     ]
    },
    {
     "data": {
      "image/png": "[encoded data removed]",
      "text/plain": [
       "<Figure size 432x288 with 1 Axes>"
      ]
     },
     "metadata": {
      "image/png": {
       "height": 118,
       "width": 377
      },
      "needs_background": "light"
     },
     "output_type": "display_data"
    }
   ],
   "source": [
    "import matplotlib.pyplot as plt\n",
    "import numpy as np\n",
    "\n",
    "# functions to show an image\n",
    "\n",
    "\n",
    "def imshow(img):\n",
    "    img = img / 2 + 0.5     # unnormalize\n",
    "    npimg = img.numpy()\n",
    "    plt.imshow(np.transpose(npimg, (1, 2, 0)))\n",
    "\n",
    "\n",
    "# get some random training images\n",
    "dataiter = iter(train_loader)\n",
    "images, labels = dataiter.next()\n",
    "\n",
    "# show images\n",
    "imshow(torchvision.utils.make_grid(images))\n",
    "# print labels\n",
    "print(' '.join('%5s' % classes[labels[j]] for j in range(4)))"
   ]
  },
  {
   "cell_type": "code",
   "execution_count": 10,
   "metadata": {},
   "outputs": [],
   "source": [
    "def get_num_correct(preds, labels):\n",
    "    return preds.argmax(dim=1).eq(labels).sum().item()\n"
   ]
  },
  {
   "cell_type": "code",
   "execution_count": 11,
   "metadata": {},
   "outputs": [],
   "source": [
    "class Network(nn.Module):\n",
    "    def __init__(self):\n",
    "        super(Network,self).__init__()\n",
    "        self.conv1 = nn.Conv2d(3, 6, kernel_size=5)\n",
    "        self.conv2 = nn.Conv2d(6, 12, kernel_size=5)\n",
    "        self.conv2_drop = nn.Dropout2d()\n",
    "        self.fc1 = nn.Linear(12*197*197, 120)\n",
    "        self.fc2 = nn.Linear(120, 60)\n",
    "\n",
    "\n",
    "    def forward(self, x):\n",
    "        x = F.relu(F.max_pool2d(self.conv1(x), 2))\n",
    "        x = F.relu(F.max_pool2d(self.conv2_drop(self.conv2(x)), 2))\n",
    "    # Reshaping the tensor to BATCH_SIZE x 320. Torch infers this from other dimensions when one of the parameter is -1.\n",
    "        x = x.view(-1, 12 * 197 * 197)\n",
    "        x = F.relu(self.fc1(x))\n",
    "        x = F.dropout(x)\n",
    "        x = self.fc2(x)\n",
    "        return x"
   ]
  },
  {
   "cell_type": "code",
   "execution_count": 12,
   "metadata": {},
   "outputs": [],
   "source": [
    "network = Network()"
   ]
  },
  {
   "cell_type": "code",
   "execution_count": 13,
   "metadata": {},
   "outputs": [
    {
     "name": "stdout",
     "output_type": "stream",
     "text": [
      "conv1.weight \t\t torch.Size([6, 3, 5, 5])\n",
      "conv1.bias \t\t torch.Size([6])\n",
      "conv2.weight \t\t torch.Size([12, 6, 5, 5])\n",
      "conv2.bias \t\t torch.Size([12])\n",
      "fc1.weight \t\t torch.Size([120, 465708])\n",
      "fc1.bias \t\t torch.Size([120])\n",
      "fc2.weight \t\t torch.Size([60, 120])\n",
      "fc2.bias \t\t torch.Size([60])\n"
     ]
    }
   ],
   "source": [
    "for name, param in network.named_parameters():\n",
    "    print(name,'\\t\\t',param.shape)"
   ]
  },
  {
   "cell_type": "code",
   "execution_count": 14,
   "metadata": {},
   "outputs": [],
   "source": [
    "train_loader = torch.utils.data.DataLoader(train_set, batch_size=40)\n",
    "optimizer = optim.SGD(network.parameters(), lr=0.001)\n",
    "  "
   ]
  },
  {
   "cell_type": "code",
   "execution_count": 15,
   "metadata": {},
   "outputs": [
    {
     "name": "stdout",
     "output_type": "stream",
     "text": [
      "epoch 0 total_correct: 166 loss: 37.05955672264099\n",
      "epoch 1 total_correct: 180 loss: 27.87967962026596\n",
      "epoch 2 total_correct: 138 loss: 26.099921345710754\n",
      "epoch 3 total_correct: 167 loss: 23.00638461112976\n",
      "epoch 4 total_correct: 178 loss: 21.42847990989685\n",
      "epoch 5 total_correct: 212 loss: 19.343867778778076\n",
      "epoch 6 total_correct: 207 loss: 17.848358988761902\n",
      "epoch 7 total_correct: 210 loss: 17.12664034962654\n",
      "epoch 8 total_correct: 207 loss: 17.000150859355927\n",
      "epoch 9 total_correct: 221 loss: 15.488304793834686\n",
      "epoch 10 total_correct: 239 loss: 16.01336020231247\n",
      "epoch 11 total_correct: 245 loss: 15.300784230232239\n",
      "epoch 12 total_correct: 248 loss: 14.226679652929306\n",
      "epoch 13 total_correct: 244 loss: 13.931997835636139\n",
      "epoch 14 total_correct: 264 loss: 13.854386746883392\n",
      "epoch 15 total_correct: 254 loss: 13.07947313785553\n",
      "epoch 16 total_correct: 263 loss: 13.385551244020462\n",
      "epoch 17 total_correct: 262 loss: 12.512487381696701\n",
      "epoch 18 total_correct: 260 loss: 12.715968072414398\n",
      "epoch 19 total_correct: 274 loss: 12.163569837808609\n",
      "epoch 20 total_correct: 273 loss: 11.602964997291565\n",
      "epoch 21 total_correct: 278 loss: 11.015043377876282\n",
      "epoch 22 total_correct: 289 loss: 12.129703402519226\n",
      "epoch 23 total_correct: 275 loss: 11.116917490959167\n",
      "epoch 24 total_correct: 288 loss: 10.827368557453156\n",
      "epoch 25 total_correct: 294 loss: 10.44146665930748\n",
      "epoch 26 total_correct: 306 loss: 10.096679896116257\n",
      "epoch 27 total_correct: 301 loss: 9.826349020004272\n",
      "epoch 28 total_correct: 316 loss: 9.905688315629959\n",
      "epoch 29 total_correct: 313 loss: 9.66610573232174\n",
      "epoch 30 total_correct: 303 loss: 9.423930302262306\n",
      "epoch 31 total_correct: 292 loss: 10.020753726363182\n",
      "epoch 32 total_correct: 311 loss: 8.932247251272202\n",
      "epoch 33 total_correct: 313 loss: 8.872831881046295\n",
      "epoch 34 total_correct: 313 loss: 8.596130475401878\n",
      "epoch 35 total_correct: 322 loss: 8.272666364908218\n",
      "epoch 36 total_correct: 313 loss: 8.960906714200974\n",
      "epoch 37 total_correct: 340 loss: 7.020261108875275\n",
      "epoch 38 total_correct: 337 loss: 6.926081299781799\n",
      "epoch 39 total_correct: 330 loss: 7.218377619981766\n",
      "epoch 40 total_correct: 328 loss: 7.683991938829422\n",
      "epoch 41 total_correct: 332 loss: 7.35661906003952\n",
      "epoch 42 total_correct: 324 loss: 7.8086791187524796\n",
      "epoch 43 total_correct: 331 loss: 7.6327100694179535\n",
      "epoch 44 total_correct: 340 loss: 6.838447153568268\n",
      "epoch 45 total_correct: 340 loss: 7.376163572072983\n",
      "epoch 46 total_correct: 348 loss: 6.653435558080673\n",
      "epoch 47 total_correct: 335 loss: 7.1548596024513245\n",
      "epoch 48 total_correct: 339 loss: 6.291783079504967\n",
      "epoch 49 total_correct: 341 loss: 6.627412602305412\n",
      "epoch 50 total_correct: 350 loss: 6.0984542816877365\n",
      "epoch 51 total_correct: 359 loss: 5.504985675215721\n",
      "epoch 52 total_correct: 351 loss: 5.527314446866512\n",
      "epoch 53 total_correct: 362 loss: 5.205041721463203\n",
      "epoch 54 total_correct: 355 loss: 5.74783094227314\n",
      "epoch 55 total_correct: 355 loss: 5.3946381993591785\n",
      "epoch 56 total_correct: 357 loss: 5.886147081851959\n",
      "epoch 57 total_correct: 356 loss: 5.386514447629452\n",
      "epoch 58 total_correct: 363 loss: 4.874769300222397\n",
      "epoch 59 total_correct: 350 loss: 5.547974146902561\n",
      "epoch 60 total_correct: 375 loss: 4.436893731355667\n",
      "epoch 61 total_correct: 362 loss: 4.640237212181091\n",
      "epoch 62 total_correct: 373 loss: 4.199594043195248\n",
      "epoch 63 total_correct: 374 loss: 4.622849889099598\n",
      "epoch 64 total_correct: 371 loss: 4.454142965376377\n",
      "epoch 65 total_correct: 378 loss: 4.120812252163887\n",
      "epoch 66 total_correct: 369 loss: 4.695105224847794\n",
      "epoch 67 total_correct: 378 loss: 4.358691334724426\n",
      "epoch 68 total_correct: 377 loss: 4.018241833895445\n",
      "epoch 69 total_correct: 381 loss: 4.176267456263304\n",
      "epoch 70 total_correct: 382 loss: 3.6736993715167046\n",
      "epoch 71 total_correct: 389 loss: 3.8269377052783966\n",
      "epoch 72 total_correct: 381 loss: 3.9574443511664867\n",
      "epoch 73 total_correct: 389 loss: 3.4281285405158997\n",
      "epoch 74 total_correct: 374 loss: 4.010787472128868\n",
      "epoch 75 total_correct: 387 loss: 3.604296088218689\n",
      "epoch 76 total_correct: 382 loss: 3.671246737241745\n",
      "epoch 77 total_correct: 386 loss: 4.018715541809797\n",
      "epoch 78 total_correct: 393 loss: 3.4295529201626778\n",
      "epoch 79 total_correct: 386 loss: 3.471294619143009\n",
      "epoch 80 total_correct: 390 loss: 3.2807524856179953\n",
      "epoch 81 total_correct: 392 loss: 3.326766647398472\n",
      "epoch 82 total_correct: 381 loss: 3.761359468102455\n",
      "epoch 83 total_correct: 389 loss: 2.8596401438117027\n",
      "epoch 84 total_correct: 388 loss: 3.194447621703148\n",
      "epoch 85 total_correct: 398 loss: 2.874700590968132\n",
      "epoch 86 total_correct: 384 loss: 3.454570598900318\n",
      "epoch 87 total_correct: 397 loss: 2.9513548016548157\n",
      "epoch 88 total_correct: 387 loss: 3.430918224155903\n",
      "epoch 89 total_correct: 407 loss: 2.860965821892023\n",
      "epoch 90 total_correct: 389 loss: 3.1870905831456184\n",
      "epoch 91 total_correct: 390 loss: 2.9354523234069347\n",
      "epoch 92 total_correct: 397 loss: 2.581245496869087\n",
      "epoch 93 total_correct: 407 loss: 2.594697378575802\n",
      "epoch 94 total_correct: 389 loss: 3.4017715863883495\n",
      "epoch 95 total_correct: 400 loss: 2.5034840032458305\n",
      "epoch 96 total_correct: 410 loss: 2.2081302851438522\n",
      "epoch 97 total_correct: 407 loss: 2.2229766231030226\n",
      "epoch 98 total_correct: 406 loss: 2.3842009641230106\n",
      "epoch 99 total_correct: 412 loss: 2.31790903583169\n"
     ]
    }
   ],
   "source": [
    "for epoch in range(100):\n",
    "\n",
    "    total_loss = 0\n",
    "    total_correct = 0\n",
    "\n",
    "    for batch in train_loader: # Get Batch # completed 6000 image in single epoch with \n",
    "                               # batch size 100 \n",
    "        images, labels = batch \n",
    "\n",
    "        preds = network(images) # Pass Batch\n",
    "        loss = F.cross_entropy(preds, labels) # Calculate Loss\n",
    "\n",
    "        optimizer.zero_grad() # doning zero grad value after every mini batch \n",
    "        loss.backward() # Calculate Gradients\n",
    "        optimizer.step() # Update Weights\n",
    "\n",
    "        total_loss += loss.item()\n",
    "        total_correct += get_num_correct(preds, labels)\n",
    "\n",
    "    print(\n",
    "        \"epoch\", epoch, \n",
    "        \"total_correct:\", total_correct, \n",
    "        \"loss:\", total_loss\n",
    "    )\n",
    "\n"
   ]
  },
  {
   "cell_type": "code",
   "execution_count": 16,
   "metadata": {},
   "outputs": [],
   "source": [
    "@torch.no_grad()\n",
    "def get_all_preds(model, loader):\n",
    "    all_preds = torch.tensor([])\n",
    "    for batch in prediction_loader:\n",
    "        images, labels = batch\n",
    "\n",
    "        preds = model(images)\n",
    "        all_preds = torch.cat((all_preds, preds),dim=0)\n",
    "    return all_preds"
   ]
  },
  {
   "cell_type": "code",
   "execution_count": 23,
   "metadata": {},
   "outputs": [],
   "source": [
    "with torch.no_grad():\n",
    "    prediction_loader = torch.utils.data.DataLoader(test_set, batch_size=4)\n",
    "    test_preds = get_all_preds(network, prediction_loader)"
   ]
  },
  {
   "cell_type": "code",
   "execution_count": 24,
   "metadata": {},
   "outputs": [],
   "source": [
    "import numpy\n",
    "test_set.targets = torch.from_numpy(numpy.array(test_set.targets, dtype='int64'))"
   ]
  },
  {
   "cell_type": "code",
   "execution_count": 25,
   "metadata": {},
   "outputs": [
    {
     "name": "stdout",
     "output_type": "stream",
     "text": [
      "total correct: 25\n",
      "accuracy: 0.8333333333333334\n"
     ]
    }
   ],
   "source": [
    "preds_correct = get_num_correct(test_preds, test_set.targets)\n",
    "\n",
    "print('total correct:', preds_correct)\n",
    "print('accuracy:', preds_correct / len(test_set))\n"
   ]
  },
  {
   "cell_type": "code",
   "execution_count": 20,
   "metadata": {},
   "outputs": [],
   "source": [
    "#pt_tensor_from_list = torch.FloatTensor(image_trainset.targets)"
   ]
  }
 ],
 "metadata": {
  "kernelspec": {
   "display_name": "Python 3",
   "language": "python",
   "name": "python3"
  },
  "language_info": {
   "codemirror_mode": {
    "name": "ipython",
    "version": 3
   },
   "file_extension": ".py",
   "mimetype": "text/x-python",
   "name": "python",
   "nbconvert_exporter": "python",
   "pygments_lexer": "ipython3",
   "version": "3.7.1"
  }
 },
 "nbformat": 4,
 "nbformat_minor": 2
}
