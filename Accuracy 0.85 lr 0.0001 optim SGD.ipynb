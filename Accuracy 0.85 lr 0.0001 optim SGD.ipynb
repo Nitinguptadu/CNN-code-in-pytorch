{
 "cells": [
  {
   "cell_type": "code",
   "execution_count": 1,
   "metadata": {},
   "outputs": [
    {
     "name": "stderr",
     "output_type": "stream",
     "text": [
      "WARNING:root:This caffe2 python run does not have GPU support. Will run in CPU only mode.\n"
     ]
    }
   ],
   "source": [
    "# Imports here\n",
    "%matplotlib inline\n",
    "%config InlineBackend.figure_format = 'retina'\n",
    "import matplotlib.pyplot as plt\n",
    "\n",
    "import torch\n",
    "import numpy as np\n",
    "from torch import nn\n",
    "from torch import optim\n",
    "import torch.nn.functional as F\n",
    "from torchvision import datasets, transforms, models\n",
    "from PIL import Image\n",
    "from collections import OrderedDict\n",
    "import json\n",
    "import torchvision \n",
    "import torch\n",
    "import torch.nn as nn\n",
    "import torch.optim as optim\n",
    "import torch.nn.functional as F\n",
    "\n",
    "import torchvision\n",
    "import torchvision.transforms as transforms\n",
    "import pdb\n",
    "\n",
    "torch.set_printoptions(linewidth=120)\n",
    "torch.set_grad_enabled(True) \n",
    "from torch.utils.tensorboard import SummaryWriter\n"
   ]
  },
  {
   "cell_type": "code",
   "execution_count": 2,
   "metadata": {},
   "outputs": [],
   "source": [
    "data_dir = 'Dataset'\n",
    "train_dir = data_dir + '/train'\n",
    "test_dir = data_dir + '/test'\n",
    "using_gpu = torch.cuda.is_available()"
   ]
  },
  {
   "cell_type": "code",
   "execution_count": 3,
   "metadata": {},
   "outputs": [],
   "source": [
    "#train_transforms = transforms.Compose([transforms.ToTensor(),\n",
    "                                       #transforms.Normalize([0.485, 0.456, 0.406], \n",
    "                                                           # [0.229, 0.224, 0.225])])\n",
    "\n"
   ]
  },
  {
   "cell_type": "code",
   "execution_count": 4,
   "metadata": {},
   "outputs": [],
   "source": [
    "#train_transform  = tv.transforms.Compose([tv.transforms.Grayscale(num_output_channels=1),\n",
    "                                    #tv.transforms.ToTensor(), \n",
    "                                    #tv.transforms.Normalize((0.5, 0.5, 0.5), (0.5, 0.5, 0.5))])"
   ]
  },
  {
   "cell_type": "code",
   "execution_count": 5,
   "metadata": {},
   "outputs": [],
   "source": [
    "data_transform = transforms.Compose([\n",
    "        transforms.RandomResizedCrop(32),\n",
    "        transforms.RandomHorizontalFlip(),\n",
    "        transforms.RandomRotation(10),\n",
    "        transforms.ToTensor(),\n",
    "    ])"
   ]
  },
  {
   "cell_type": "code",
   "execution_count": 6,
   "metadata": {},
   "outputs": [],
   "source": [
    "train_set  = torchvision.datasets.ImageFolder(train_dir, \n",
    "                                        transform = transforms.Compose([transforms.ToTensor(),\n",
    "                                        transforms.Normalize([0.485, 0.456, 0.406], \n",
    "                                                            [0.229, 0.224, 0.225])])\n",
    "\n",
    " )"
   ]
  },
  {
   "cell_type": "code",
   "execution_count": 7,
   "metadata": {},
   "outputs": [],
   "source": [
    "train_loader = torch.utils.data.DataLoader(train_set, batch_size=4, shuffle=True)"
   ]
  },
  {
   "cell_type": "code",
   "execution_count": 8,
   "metadata": {},
   "outputs": [],
   "source": [
    "classes = ('category 1','category 2','category 3','category 4')"
   ]
  },
  {
   "cell_type": "code",
   "execution_count": 9,
   "metadata": {},
   "outputs": [
    {
     "name": "stderr",
     "output_type": "stream",
     "text": [
      "WARNING:matplotlib.image:Clipping input data to the valid range for imshow with RGB data ([0..1] for floats or [0..255] for integers).\n"
     ]
    },
    {
     "name": "stdout",
     "output_type": "stream",
     "text": [
      "category 1 category 1 category 1 category 4\n"
     ]
    },
    {
     "data": {
      "image/png": "[encoded data removed]",
      "text/plain": [
       "<Figure size 432x288 with 1 Axes>"
      ]
     },
     "metadata": {
      "image/png": {
       "height": 118,
       "width": 377
      },
      "needs_background": "light"
     },
     "output_type": "display_data"
    }
   ],
   "source": [
    "import matplotlib.pyplot as plt\n",
    "import numpy as np\n",
    "\n",
    "# functions to show an image\n",
    "\n",
    "\n",
    "def imshow(img):\n",
    "    img = img / 2 + 0.5     # unnormalize\n",
    "    npimg = img.numpy()\n",
    "    plt.imshow(np.transpose(npimg, (1, 2, 0)))\n",
    "\n",
    "\n",
    "# get some random training images\n",
    "dataiter = iter(train_loader)\n",
    "images, labels = dataiter.next()\n",
    "\n",
    "# show images\n",
    "imshow(torchvision.utils.make_grid(images))\n",
    "# print labels\n",
    "print(' '.join('%5s' % classes[labels[j]] for j in range(4)))"
   ]
  },
  {
   "cell_type": "code",
   "execution_count": 10,
   "metadata": {},
   "outputs": [],
   "source": [
    "def get_num_correct(preds, labels):\n",
    "    return preds.argmax(dim=1).eq(labels).sum().item()\n"
   ]
  },
  {
   "cell_type": "code",
   "execution_count": 11,
   "metadata": {},
   "outputs": [],
   "source": [
    "class Network(nn.Module):\n",
    "    def __init__(self):\n",
    "        super(Network,self).__init__()\n",
    "        self.conv1 = nn.Conv2d(3, 6, kernel_size=5)\n",
    "        self.conv2 = nn.Conv2d(6, 12, kernel_size=5)\n",
    "        self.conv2_drop = nn.Dropout2d()\n",
    "        self.fc1 = nn.Linear(12*197*197, 120)\n",
    "        self.fc2 = nn.Linear(120, 60)\n",
    "\n",
    "\n",
    "    def forward(self, x):\n",
    "        x = F.relu(F.max_pool2d(self.conv1(x), 2))\n",
    "        x = F.relu(F.max_pool2d(self.conv2_drop(self.conv2(x)), 2))\n",
    "    # Reshaping the tensor to BATCH_SIZE x 320. Torch infers this from other dimensions when one of the parameter is -1.\n",
    "        x = x.view(-1, 12 * 197 * 197)\n",
    "        x = F.relu(self.fc1(x))\n",
    "        x = F.dropout(x)\n",
    "        x = self.fc2(x)\n",
    "        return x"
   ]
  },
  {
   "cell_type": "code",
   "execution_count": 12,
   "metadata": {},
   "outputs": [],
   "source": [
    "network = Network()"
   ]
  },
  {
   "cell_type": "code",
   "execution_count": 13,
   "metadata": {},
   "outputs": [
    {
     "name": "stdout",
     "output_type": "stream",
     "text": [
      "conv1.weight \t\t torch.Size([6, 3, 5, 5])\n",
      "conv1.bias \t\t torch.Size([6])\n",
      "conv2.weight \t\t torch.Size([12, 6, 5, 5])\n",
      "conv2.bias \t\t torch.Size([12])\n",
      "fc1.weight \t\t torch.Size([120, 465708])\n",
      "fc1.bias \t\t torch.Size([120])\n",
      "fc2.weight \t\t torch.Size([60, 120])\n",
      "fc2.bias \t\t torch.Size([60])\n"
     ]
    }
   ],
   "source": [
    "for name, param in network.named_parameters():\n",
    "    print(name,'\\t\\t',param.shape)"
   ]
  },
  {
   "cell_type": "code",
   "execution_count": 14,
   "metadata": {},
   "outputs": [],
   "source": [
    "train_loader = torch.utils.data.DataLoader(train_set, batch_size=40)\n",
    "optimizer = optim.SGD(network.parameters(), lr=0.0001)\n",
    "  "
   ]
  },
  {
   "cell_type": "code",
   "execution_count": 15,
   "metadata": {},
   "outputs": [
    {
     "name": "stdout",
     "output_type": "stream",
     "text": [
      "epoch 0 total_correct: 55 loss: 43.091245889663696\n",
      "epoch 1 total_correct: 99 loss: 37.5934476852417\n",
      "epoch 2 total_correct: 104 loss: 32.74958920478821\n",
      "epoch 3 total_correct: 108 loss: 29.102356910705566\n",
      "epoch 4 total_correct: 113 loss: 27.397403478622437\n",
      "epoch 5 total_correct: 128 loss: 26.022690057754517\n",
      "epoch 6 total_correct: 138 loss: 24.18403160572052\n",
      "epoch 7 total_correct: 147 loss: 22.791036009788513\n",
      "epoch 8 total_correct: 146 loss: 22.719284653663635\n",
      "epoch 9 total_correct: 155 loss: 22.17931818962097\n",
      "epoch 10 total_correct: 158 loss: 21.175345301628113\n",
      "epoch 11 total_correct: 155 loss: 21.00794231891632\n",
      "epoch 12 total_correct: 179 loss: 20.9018532037735\n",
      "epoch 13 total_correct: 177 loss: 20.072791695594788\n",
      "epoch 14 total_correct: 195 loss: 18.612365245819092\n",
      "epoch 15 total_correct: 194 loss: 18.24522715806961\n",
      "epoch 16 total_correct: 180 loss: 17.997165262699127\n",
      "epoch 17 total_correct: 207 loss: 18.193568110466003\n",
      "epoch 18 total_correct: 212 loss: 16.438920855522156\n",
      "epoch 19 total_correct: 214 loss: 17.20796835422516\n",
      "epoch 20 total_correct: 214 loss: 16.90867292881012\n",
      "epoch 21 total_correct: 236 loss: 16.539561092853546\n",
      "epoch 22 total_correct: 230 loss: 16.213951289653778\n",
      "epoch 23 total_correct: 235 loss: 15.39637041091919\n",
      "epoch 24 total_correct: 245 loss: 15.69413936138153\n",
      "epoch 25 total_correct: 245 loss: 14.729901194572449\n",
      "epoch 26 total_correct: 258 loss: 15.39902675151825\n",
      "epoch 27 total_correct: 255 loss: 14.186319708824158\n",
      "epoch 28 total_correct: 261 loss: 14.431876540184021\n",
      "epoch 29 total_correct: 252 loss: 14.822350859642029\n",
      "epoch 30 total_correct: 262 loss: 13.464820563793182\n",
      "epoch 31 total_correct: 254 loss: 13.952001392841339\n",
      "epoch 32 total_correct: 283 loss: 13.424377620220184\n",
      "epoch 33 total_correct: 261 loss: 13.788715660572052\n",
      "epoch 34 total_correct: 280 loss: 12.901083588600159\n",
      "epoch 35 total_correct: 269 loss: 12.992451965808868\n",
      "epoch 36 total_correct: 276 loss: 13.855610251426697\n",
      "epoch 37 total_correct: 291 loss: 12.452402234077454\n",
      "epoch 38 total_correct: 296 loss: 12.438818454742432\n",
      "epoch 39 total_correct: 298 loss: 11.775082260370255\n",
      "epoch 40 total_correct: 297 loss: 12.044197082519531\n",
      "epoch 41 total_correct: 311 loss: 10.958424836397171\n",
      "epoch 42 total_correct: 310 loss: 11.426199734210968\n",
      "epoch 43 total_correct: 302 loss: 10.88569974899292\n",
      "epoch 44 total_correct: 314 loss: 10.454895973205566\n",
      "epoch 45 total_correct: 308 loss: 11.340408682823181\n",
      "epoch 46 total_correct: 318 loss: 10.447805345058441\n",
      "epoch 47 total_correct: 321 loss: 10.619407415390015\n",
      "epoch 48 total_correct: 332 loss: 9.272539973258972\n",
      "epoch 49 total_correct: 317 loss: 10.056777954101562\n",
      "epoch 50 total_correct: 324 loss: 10.310597777366638\n",
      "epoch 51 total_correct: 319 loss: 9.82535856962204\n",
      "epoch 52 total_correct: 316 loss: 10.043434977531433\n",
      "epoch 53 total_correct: 332 loss: 9.533636033535004\n",
      "epoch 54 total_correct: 327 loss: 9.976693093776703\n",
      "epoch 55 total_correct: 321 loss: 10.174410164356232\n",
      "epoch 56 total_correct: 327 loss: 9.2445048391819\n",
      "epoch 57 total_correct: 333 loss: 9.542915165424347\n",
      "epoch 58 total_correct: 342 loss: 8.67229151725769\n",
      "epoch 59 total_correct: 340 loss: 8.291493952274323\n",
      "epoch 60 total_correct: 344 loss: 8.766792982816696\n",
      "epoch 61 total_correct: 335 loss: 9.209336131811142\n",
      "epoch 62 total_correct: 339 loss: 8.288013994693756\n",
      "epoch 63 total_correct: 345 loss: 8.547352641820908\n",
      "epoch 64 total_correct: 357 loss: 8.452385634183884\n",
      "epoch 65 total_correct: 340 loss: 8.044042140245438\n",
      "epoch 66 total_correct: 334 loss: 9.026884824037552\n",
      "epoch 67 total_correct: 340 loss: 8.251495689153671\n",
      "epoch 68 total_correct: 339 loss: 8.561722427606583\n",
      "epoch 69 total_correct: 338 loss: 8.251426249742508\n",
      "epoch 70 total_correct: 338 loss: 8.20663434267044\n",
      "epoch 71 total_correct: 327 loss: 8.66319739818573\n",
      "epoch 72 total_correct: 344 loss: 7.539431631565094\n",
      "epoch 73 total_correct: 355 loss: 7.157499819993973\n",
      "epoch 74 total_correct: 348 loss: 7.628976345062256\n",
      "epoch 75 total_correct: 350 loss: 7.447954833507538\n",
      "epoch 76 total_correct: 350 loss: 7.637675270438194\n",
      "epoch 77 total_correct: 350 loss: 7.250672817230225\n",
      "epoch 78 total_correct: 346 loss: 7.461811453104019\n",
      "epoch 79 total_correct: 363 loss: 6.249112829566002\n",
      "epoch 80 total_correct: 355 loss: 6.762309297919273\n",
      "epoch 81 total_correct: 363 loss: 6.754488080739975\n",
      "epoch 82 total_correct: 365 loss: 6.999122589826584\n",
      "epoch 83 total_correct: 359 loss: 6.981624186038971\n",
      "epoch 84 total_correct: 357 loss: 6.851780593395233\n",
      "epoch 85 total_correct: 354 loss: 6.883643835783005\n",
      "epoch 86 total_correct: 366 loss: 6.565337210893631\n",
      "epoch 87 total_correct: 369 loss: 6.361300081014633\n",
      "epoch 88 total_correct: 353 loss: 6.846196323633194\n",
      "epoch 89 total_correct: 361 loss: 6.794756501913071\n",
      "epoch 90 total_correct: 361 loss: 6.406435519456863\n",
      "epoch 91 total_correct: 368 loss: 5.999228045344353\n",
      "epoch 92 total_correct: 364 loss: 6.027150273323059\n",
      "epoch 93 total_correct: 359 loss: 6.745775476098061\n",
      "epoch 94 total_correct: 370 loss: 6.277019530534744\n",
      "epoch 95 total_correct: 376 loss: 5.568455681204796\n",
      "epoch 96 total_correct: 366 loss: 6.05390428006649\n",
      "epoch 97 total_correct: 380 loss: 6.04245063662529\n",
      "epoch 98 total_correct: 381 loss: 5.064484357833862\n",
      "epoch 99 total_correct: 381 loss: 5.32650052011013\n"
     ]
    }
   ],
   "source": [
    "for epoch in range(100):\n",
    "\n",
    "    total_loss = 0\n",
    "    total_correct = 0\n",
    "\n",
    "    for batch in train_loader: # Get Batch # completed 6000 image in single epoch with \n",
    "                               # batch size 100 \n",
    "        images, labels = batch \n",
    "\n",
    "        preds = network(images) # Pass Batch\n",
    "        loss = F.cross_entropy(preds, labels) # Calculate Loss\n",
    "\n",
    "        optimizer.zero_grad() # doning zero grad value after every mini batch \n",
    "        loss.backward() # Calculate Gradients\n",
    "        optimizer.step() # Update Weights\n",
    "\n",
    "        total_loss += loss.item()\n",
    "        total_correct += get_num_correct(preds, labels)\n",
    "\n",
    "    print(\n",
    "        \"epoch\", epoch, \n",
    "        \"total_correct:\", total_correct, \n",
    "        \"loss:\", total_loss\n",
    "    )\n",
    "\n"
   ]
  },
  {
   "cell_type": "code",
   "execution_count": 16,
   "metadata": {},
   "outputs": [],
   "source": [
    "@torch.no_grad()\n",
    "def get_all_preds(model, loader):\n",
    "    all_preds = torch.tensor([])\n",
    "    for batch in prediction_loader:\n",
    "        images, labels = batch\n",
    "\n",
    "        preds = model(images)\n",
    "        all_preds = torch.cat((all_preds, preds),dim=0)\n",
    "    return all_preds"
   ]
  },
  {
   "cell_type": "code",
   "execution_count": 17,
   "metadata": {},
   "outputs": [],
   "source": [
    "with torch.no_grad():\n",
    "    prediction_loader = torch.utils.data.DataLoader(train_set, batch_size=4)\n",
    "    train_preds = get_all_preds(network, prediction_loader)"
   ]
  },
  {
   "cell_type": "code",
   "execution_count": 18,
   "metadata": {},
   "outputs": [],
   "source": [
    "import numpy\n",
    "train_set.targets = torch.from_numpy(numpy.array(train_set.targets, dtype='int64'))"
   ]
  },
  {
   "cell_type": "code",
   "execution_count": 19,
   "metadata": {},
   "outputs": [
    {
     "name": "stdout",
     "output_type": "stream",
     "text": [
      "total correct: 374\n",
      "accuracy: 0.85\n"
     ]
    }
   ],
   "source": [
    "preds_correct = get_num_correct(train_preds, train_set.targets)\n",
    "\n",
    "print('total correct:', preds_correct)\n",
    "print('accuracy:', preds_correct / len(train_set))\n"
   ]
  },
  {
   "cell_type": "code",
   "execution_count": 20,
   "metadata": {},
   "outputs": [],
   "source": [
    "#pt_tensor_from_list = torch.FloatTensor(image_trainset.targets)"
   ]
  }
 ],
 "metadata": {
  "kernelspec": {
   "display_name": "Python 3",
   "language": "python",
   "name": "python3"
  },
  "language_info": {
   "codemirror_mode": {
    "name": "ipython",
    "version": 3
   },
   "file_extension": ".py",
   "mimetype": "text/x-python",
   "name": "python",
   "nbconvert_exporter": "python",
   "pygments_lexer": "ipython3",
   "version": "3.7.1"
  }
 },
 "nbformat": 4,
 "nbformat_minor": 2
}
