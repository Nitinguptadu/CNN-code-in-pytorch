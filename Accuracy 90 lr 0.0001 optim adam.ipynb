{
 "cells": [
  {
   "cell_type": "code",
   "execution_count": 1,
   "metadata": {},
   "outputs": [
    {
     "name": "stderr",
     "output_type": "stream",
     "text": [
      "WARNING:root:This caffe2 python run does not have GPU support. Will run in CPU only mode.\n"
     ]
    }
   ],
   "source": [
    "# Imports here\n",
    "%matplotlib inline\n",
    "%config InlineBackend.figure_format = 'retina'\n",
    "import matplotlib.pyplot as plt\n",
    "\n",
    "import torch\n",
    "import numpy as np\n",
    "from torch import nn\n",
    "from torch import optim\n",
    "import torch.nn.functional as F\n",
    "from torchvision import datasets, transforms, models\n",
    "from PIL import Image\n",
    "from collections import OrderedDict\n",
    "import json\n",
    "import torchvision \n",
    "import torch\n",
    "import torch.nn as nn\n",
    "import torch.optim as optim\n",
    "import torch.nn.functional as F\n",
    "\n",
    "import torchvision\n",
    "import torchvision.transforms as transforms\n",
    "import pdb\n",
    "\n",
    "torch.set_printoptions(linewidth=120)\n",
    "torch.set_grad_enabled(True) \n",
    "from torch.utils.tensorboard import SummaryWriter\n"
   ]
  },
  {
   "cell_type": "code",
   "execution_count": null,
   "metadata": {},
   "outputs": [],
   "source": [
    "importing torch module "
   ]
  },
  {
   "cell_type": "code",
   "execution_count": 2,
   "metadata": {},
   "outputs": [],
   "source": [
    "data_dir = 'Dataset'\n",
    "train_dir = data_dir + '/train'\n",
    "test_dir = data_dir + '/test'\n",
    "using_gpu = torch.cuda.is_available()"
   ]
  },
  {
   "cell_type": "code",
   "execution_count": 3,
   "metadata": {},
   "outputs": [],
   "source": [
    "#train_transforms = transforms.Compose([transforms.ToTensor(),\n",
    "                                       #transforms.Normalize([0.485, 0.456, 0.406], \n",
    "                                                           # [0.229, 0.224, 0.225])])\n",
    "\n"
   ]
  },
  {
   "cell_type": "code",
   "execution_count": 4,
   "metadata": {},
   "outputs": [],
   "source": [
    "#train_transform  = tv.transforms.Compose([tv.transforms.Grayscale(num_output_channels=1),\n",
    "                                    #tv.transforms.ToTensor(), \n",
    "                                    #tv.transforms.Normalize((0.5, 0.5, 0.5), (0.5, 0.5, 0.5))])"
   ]
  },
  {
   "cell_type": "code",
   "execution_count": 5,
   "metadata": {},
   "outputs": [],
   "source": [
    "data_transform = transforms.Compose([\n",
    "        transforms.RandomResizedCrop(32),\n",
    "        transforms.RandomHorizontalFlip(),\n",
    "        transforms.RandomRotation(10),\n",
    "        transforms.ToTensor(),\n",
    "    ])"
   ]
  },
  {
   "cell_type": "code",
   "execution_count": 6,
   "metadata": {},
   "outputs": [],
   "source": [
    "train_set  = torchvision.datasets.ImageFolder(train_dir, \n",
    "                                        transform = transforms.Compose([transforms.ToTensor(),\n",
    "                                        transforms.Normalize([0.485, 0.456, 0.406], \n",
    "                                                            [0.229, 0.224, 0.225])])\n",
    "\n",
    " )"
   ]
  },
  {
   "cell_type": "code",
   "execution_count": 22,
   "metadata": {},
   "outputs": [],
   "source": [
    "test_set  = torchvision.datasets.ImageFolder(test_dir , \n",
    "                                        transform = transforms.Compose([transforms.ToTensor(),\n",
    "                                        transforms.Normalize([0.485, 0.456, 0.406], \n",
    "                                                            [0.229, 0.224, 0.225])])\n",
    "\n",
    " )"
   ]
  },
  {
   "cell_type": "code",
   "execution_count": 7,
   "metadata": {},
   "outputs": [],
   "source": [
    "train_loader = torch.utils.data.DataLoader(train_set, batch_size=4, shuffle=True)"
   ]
  },
  {
   "cell_type": "code",
   "execution_count": 23,
   "metadata": {},
   "outputs": [],
   "source": [
    "test_loader = torch.utils.data.DataLoader(test_set, batch_size=100, shuffle=True)"
   ]
  },
  {
   "cell_type": "code",
   "execution_count": 8,
   "metadata": {},
   "outputs": [],
   "source": [
    "classes = ('category 1','category 2','category 3','category 4')"
   ]
  },
  {
   "cell_type": "code",
   "execution_count": 9,
   "metadata": {},
   "outputs": [
    {
     "name": "stderr",
     "output_type": "stream",
     "text": [
      "WARNING:matplotlib.image:Clipping input data to the valid range for imshow with RGB data ([0..1] for floats or [0..255] for integers).\n"
     ]
    },
    {
     "name": "stdout",
     "output_type": "stream",
     "text": [
      "category 2 category 3 category 2 category 3\n"
     ]
    },
    {
     "data": {
      "image/png": "[encoded data removed]",
      "text/plain": [
       "<Figure size 432x288 with 1 Axes>"
      ]
     },
     "metadata": {
      "image/png": {
       "height": 118,
       "width": 377
      },
      "needs_background": "light"
     },
     "output_type": "display_data"
    }
   ],
   "source": [
    "import matplotlib.pyplot as plt\n",
    "import numpy as np\n",
    "\n",
    "# functions to show an image\n",
    "\n",
    "\n",
    "def imshow(img):\n",
    "    img = img / 2 + 0.5     # unnormalize\n",
    "    npimg = img.numpy()\n",
    "    plt.imshow(np.transpose(npimg, (1, 2, 0)))\n",
    "\n",
    "\n",
    "# get some random training images\n",
    "dataiter = iter(train_loader)\n",
    "images, labels = dataiter.next()\n",
    "\n",
    "# show images\n",
    "imshow(torchvision.utils.make_grid(images))\n",
    "# print labels\n",
    "print(' '.join('%5s' % classes[labels[j]] for j in range(4)))"
   ]
  },
  {
   "cell_type": "code",
   "execution_count": 10,
   "metadata": {},
   "outputs": [],
   "source": [
    "def get_num_correct(preds, labels):\n",
    "    return preds.argmax(dim=1).eq(labels).sum().item()\n"
   ]
  },
  {
   "cell_type": "code",
   "execution_count": 11,
   "metadata": {},
   "outputs": [],
   "source": [
    "class Network(nn.Module):\n",
    "    def __init__(self):\n",
    "        super(Network,self).__init__()\n",
    "        self.conv1 = nn.Conv2d(3, 6, kernel_size=5)\n",
    "        self.conv2 = nn.Conv2d(6, 12, kernel_size=5)\n",
    "        self.conv2_drop = nn.Dropout2d()\n",
    "        self.fc1 = nn.Linear(12*197*197, 120)\n",
    "        self.fc2 = nn.Linear(120, 60)\n",
    "\n",
    "\n",
    "    def forward(self, x):\n",
    "        x = F.relu(F.max_pool2d(self.conv1(x), 2))\n",
    "        x = F.relu(F.max_pool2d(self.conv2_drop(self.conv2(x)), 2))\n",
    "    # Reshaping the tensor to BATCH_SIZE x 320. Torch infers this from other dimensions when one of the parameter is -1.\n",
    "        x = x.view(-1, 12 * 197 * 197)\n",
    "        x = F.relu(self.fc1(x))\n",
    "        x = F.dropout(x)\n",
    "        x = self.fc2(x)\n",
    "        return x"
   ]
  },
  {
   "cell_type": "code",
   "execution_count": 12,
   "metadata": {},
   "outputs": [],
   "source": [
    "network = Network()"
   ]
  },
  {
   "cell_type": "code",
   "execution_count": 13,
   "metadata": {},
   "outputs": [
    {
     "name": "stdout",
     "output_type": "stream",
     "text": [
      "conv1.weight \t\t torch.Size([6, 3, 5, 5])\n",
      "conv1.bias \t\t torch.Size([6])\n",
      "conv2.weight \t\t torch.Size([12, 6, 5, 5])\n",
      "conv2.bias \t\t torch.Size([12])\n",
      "fc1.weight \t\t torch.Size([120, 465708])\n",
      "fc1.bias \t\t torch.Size([120])\n",
      "fc2.weight \t\t torch.Size([60, 120])\n",
      "fc2.bias \t\t torch.Size([60])\n"
     ]
    }
   ],
   "source": [
    "for name, param in network.named_parameters():\n",
    "    print(name,'\\t\\t',param.shape)"
   ]
  },
  {
   "cell_type": "code",
   "execution_count": 14,
   "metadata": {},
   "outputs": [],
   "source": [
    "train_loader = torch.utils.data.DataLoader(train_set, batch_size=40)\n",
    "optimizer = optim.Adam(network.parameters(), lr=0.0001)\n",
    "  "
   ]
  },
  {
   "cell_type": "code",
   "execution_count": 15,
   "metadata": {},
   "outputs": [
    {
     "name": "stdout",
     "output_type": "stream",
     "text": [
      "epoch 0 total_correct: 74 loss: 80.1629347205162\n",
      "epoch 1 total_correct: 102 loss: 34.8436393737793\n",
      "epoch 2 total_correct: 127 loss: 25.464120030403137\n",
      "epoch 3 total_correct: 177 loss: 20.634214639663696\n",
      "epoch 4 total_correct: 175 loss: 18.78113889694214\n",
      "epoch 5 total_correct: 226 loss: 15.900839269161224\n",
      "epoch 6 total_correct: 245 loss: 14.523099422454834\n",
      "epoch 7 total_correct: 255 loss: 13.55557519197464\n",
      "epoch 8 total_correct: 272 loss: 12.755993962287903\n",
      "epoch 9 total_correct: 300 loss: 10.76714551448822\n",
      "epoch 10 total_correct: 310 loss: 10.215427994728088\n",
      "epoch 11 total_correct: 310 loss: 9.809142291545868\n",
      "epoch 12 total_correct: 342 loss: 9.126517593860626\n",
      "epoch 13 total_correct: 328 loss: 8.879724681377411\n",
      "epoch 14 total_correct: 335 loss: 7.229662865400314\n",
      "epoch 15 total_correct: 375 loss: 6.197026371955872\n",
      "epoch 16 total_correct: 359 loss: 6.083509087562561\n",
      "epoch 17 total_correct: 373 loss: 5.410079807043076\n",
      "epoch 18 total_correct: 375 loss: 5.497666761279106\n",
      "epoch 19 total_correct: 390 loss: 4.677424892783165\n",
      "epoch 20 total_correct: 375 loss: 5.111920818686485\n",
      "epoch 21 total_correct: 398 loss: 3.9126992523670197\n",
      "epoch 22 total_correct: 398 loss: 3.955871120095253\n",
      "epoch 23 total_correct: 395 loss: 3.8661580085754395\n",
      "epoch 24 total_correct: 399 loss: 3.491560608148575\n",
      "epoch 25 total_correct: 404 loss: 3.6064095199108124\n",
      "epoch 26 total_correct: 412 loss: 3.0497194081544876\n",
      "epoch 27 total_correct: 407 loss: 3.290937662124634\n",
      "epoch 28 total_correct: 412 loss: 2.8464207351207733\n",
      "epoch 29 total_correct: 412 loss: 2.7014458775520325\n",
      "epoch 30 total_correct: 419 loss: 2.3759894520044327\n",
      "epoch 31 total_correct: 409 loss: 2.5554338991642\n",
      "epoch 32 total_correct: 418 loss: 2.6525203958153725\n",
      "epoch 33 total_correct: 417 loss: 2.281137265264988\n",
      "epoch 34 total_correct: 415 loss: 2.0987638123333454\n",
      "epoch 35 total_correct: 425 loss: 1.811732541769743\n",
      "epoch 36 total_correct: 418 loss: 2.3008290007710457\n",
      "epoch 37 total_correct: 419 loss: 1.9696963503956795\n",
      "epoch 38 total_correct: 431 loss: 1.2098431400954723\n",
      "epoch 39 total_correct: 412 loss: 2.121492214500904\n",
      "epoch 40 total_correct: 426 loss: 1.3011226132512093\n",
      "epoch 41 total_correct: 426 loss: 1.405674859881401\n",
      "epoch 42 total_correct: 424 loss: 1.986896425485611\n",
      "epoch 43 total_correct: 431 loss: 1.0900325924158096\n",
      "epoch 44 total_correct: 421 loss: 1.5059358105063438\n",
      "epoch 45 total_correct: 424 loss: 1.356533344835043\n",
      "epoch 46 total_correct: 432 loss: 0.9552924893796444\n",
      "epoch 47 total_correct: 429 loss: 1.199093945324421\n",
      "epoch 48 total_correct: 423 loss: 1.258735354989767\n",
      "epoch 49 total_correct: 431 loss: 0.9019907750189304\n",
      "epoch 50 total_correct: 430 loss: 0.9713200181722641\n",
      "epoch 51 total_correct: 423 loss: 1.268464159220457\n",
      "epoch 52 total_correct: 429 loss: 0.9193034134805202\n",
      "epoch 53 total_correct: 428 loss: 1.2643557041883469\n",
      "epoch 54 total_correct: 431 loss: 0.9449834227561951\n",
      "epoch 55 total_correct: 434 loss: 0.7626784294843674\n",
      "epoch 56 total_correct: 430 loss: 1.0012402683496475\n",
      "epoch 57 total_correct: 436 loss: 0.7183680944144726\n",
      "epoch 58 total_correct: 437 loss: 0.703927559312433\n",
      "epoch 59 total_correct: 429 loss: 0.8710530009120703\n",
      "epoch 60 total_correct: 432 loss: 0.86480363458395\n",
      "epoch 61 total_correct: 422 loss: 1.2122153080999851\n",
      "epoch 62 total_correct: 431 loss: 0.9579050615429878\n",
      "epoch 63 total_correct: 432 loss: 0.7449063980020583\n",
      "epoch 64 total_correct: 434 loss: 0.6818988183513284\n",
      "epoch 65 total_correct: 427 loss: 0.9960596754681319\n",
      "epoch 66 total_correct: 431 loss: 0.7455318812280893\n",
      "epoch 67 total_correct: 433 loss: 0.6171620134264231\n",
      "epoch 68 total_correct: 429 loss: 0.7672060560435057\n",
      "epoch 69 total_correct: 430 loss: 0.8976920135319233\n"
     ]
    }
   ],
   "source": [
    "for epoch in range(70):\n",
    "\n",
    "    total_loss = 0\n",
    "    total_correct = 0\n",
    "\n",
    "    for batch in train_loader: # Get Batch # completed 6000 image in single epoch with \n",
    "                               # batch size 100 \n",
    "        images, labels = batch \n",
    "\n",
    "        preds = network(images) # Pass Batch\n",
    "        loss = F.cross_entropy(preds, labels) # Calculate Loss\n",
    "\n",
    "        optimizer.zero_grad() # doning zero grad value after every mini batch \n",
    "        loss.backward() # Calculate Gradients\n",
    "        optimizer.step() # Update Weights\n",
    "\n",
    "        total_loss += loss.item()\n",
    "        total_correct += get_num_correct(preds, labels)\n",
    "\n",
    "    print(\n",
    "        \"epoch\", epoch, \n",
    "        \"total_correct:\", total_correct, \n",
    "        \"loss:\", total_loss\n",
    "    )\n",
    "\n"
   ]
  },
  {
   "cell_type": "code",
   "execution_count": 28,
   "metadata": {},
   "outputs": [],
   "source": [
    "@torch.no_grad()\n",
    "def get_all_preds(model, loader):\n",
    "    all_preds = torch.tensor([])\n",
    "    for batch in prediction_loader:\n",
    "        images, labels = batch\n",
    "\n",
    "        preds = model(images)\n",
    "        all_preds = torch.cat((all_preds, preds),dim=0)\n",
    "    return all_preds"
   ]
  },
  {
   "cell_type": "code",
   "execution_count": 29,
   "metadata": {},
   "outputs": [],
   "source": [
    "with torch.no_grad():\n",
    "    prediction_loader = torch.utils.data.DataLoader(test_set, batch_size=4)\n",
    "    test_preds = get_all_preds(network, prediction_loader)"
   ]
  },
  {
   "cell_type": "code",
   "execution_count": 31,
   "metadata": {},
   "outputs": [],
   "source": [
    "import numpy\n",
    "test_set.targets = torch.from_numpy(numpy.array(test_set.targets, dtype='int64'))"
   ]
  },
  {
   "cell_type": "code",
   "execution_count": 34,
   "metadata": {},
   "outputs": [
    {
     "name": "stdout",
     "output_type": "stream",
     "text": [
      "total correct: 27\n",
      "accuracy: 90.0\n"
     ]
    }
   ],
   "source": [
    "preds_correct = get_num_correct(test_preds, test_set.targets)\n",
    "\n",
    "print('total correct:', preds_correct)\n",
    "print('accuracy:', preds_correct / len(test_set)*100)\n"
   ]
  },
  {
   "cell_type": "code",
   "execution_count": 20,
   "metadata": {},
   "outputs": [],
   "source": [
    "#pt_tensor_from_list = torch.FloatTensor(image_trainset.targets)"
   ]
  }
 ],
 "metadata": {
  "kernelspec": {
   "display_name": "Python 3",
   "language": "python",
   "name": "python3"
  },
  "language_info": {
   "codemirror_mode": {
    "name": "ipython",
    "version": 3
   },
   "file_extension": ".py",
   "mimetype": "text/x-python",
   "name": "python",
   "nbconvert_exporter": "python",
   "pygments_lexer": "ipython3",
   "version": "3.7.1"
  }
 },
 "nbformat": 4,
 "nbformat_minor": 2
}
