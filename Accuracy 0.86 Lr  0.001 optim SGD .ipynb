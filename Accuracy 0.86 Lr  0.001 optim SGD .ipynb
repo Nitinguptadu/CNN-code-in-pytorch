{
 "cells": [
  {
   "cell_type": "code",
   "execution_count": 1,
   "metadata": {},
   "outputs": [
    {
     "name": "stderr",
     "output_type": "stream",
     "text": [
      "WARNING:root:This caffe2 python run does not have GPU support. Will run in CPU only mode.\n"
     ]
    }
   ],
   "source": [
    "# Imports here\n",
    "%matplotlib inline\n",
    "%config InlineBackend.figure_format = 'retina'\n",
    "import matplotlib.pyplot as plt\n",
    "\n",
    "import torch\n",
    "import numpy as np\n",
    "from torch import nn\n",
    "from torch import optim\n",
    "import torch.nn.functional as F\n",
    "from torchvision import datasets, transforms, models\n",
    "from PIL import Image\n",
    "from collections import OrderedDict\n",
    "import json\n",
    "import torchvision \n",
    "import torch\n",
    "import torch.nn as nn\n",
    "import torch.optim as optim\n",
    "import torch.nn.functional as F\n",
    "\n",
    "import torchvision\n",
    "import torchvision.transforms as transforms\n",
    "import pdb\n",
    "\n",
    "torch.set_printoptions(linewidth=120)\n",
    "torch.set_grad_enabled(True) \n",
    "from torch.utils.tensorboard import SummaryWriter\n"
   ]
  },
  {
   "cell_type": "code",
   "execution_count": 2,
   "metadata": {},
   "outputs": [],
   "source": [
    "data_dir = 'Dataset'\n",
    "train_dir = data_dir + '/train'\n",
    "test_dir = data_dir + '/test'\n",
    "using_gpu = torch.cuda.is_available()"
   ]
  },
  {
   "cell_type": "code",
   "execution_count": 3,
   "metadata": {},
   "outputs": [],
   "source": [
    "#train_transforms = transforms.Compose([transforms.ToTensor(),\n",
    "                                       #transforms.Normalize([0.485, 0.456, 0.406], \n",
    "                                                           # [0.229, 0.224, 0.225])])\n",
    "\n"
   ]
  },
  {
   "cell_type": "code",
   "execution_count": 4,
   "metadata": {},
   "outputs": [],
   "source": [
    "#train_transform  = tv.transforms.Compose([tv.transforms.Grayscale(num_output_channels=1),\n",
    "                                    #tv.transforms.ToTensor(), \n",
    "                                    #tv.transforms.Normalize((0.5, 0.5, 0.5), (0.5, 0.5, 0.5))])"
   ]
  },
  {
   "cell_type": "code",
   "execution_count": 5,
   "metadata": {},
   "outputs": [],
   "source": [
    "data_transform = transforms.Compose([\n",
    "        transforms.RandomResizedCrop(32),\n",
    "        transforms.RandomHorizontalFlip(),\n",
    "        transforms.RandomRotation(10),\n",
    "        transforms.ToTensor(),\n",
    "    ])"
   ]
  },
  {
   "cell_type": "code",
   "execution_count": 6,
   "metadata": {},
   "outputs": [],
   "source": [
    "train_set  = torchvision.datasets.ImageFolder(train_dir, \n",
    "                                        transform = transforms.Compose([transforms.ToTensor(),\n",
    "                                        transforms.Normalize([0.485, 0.456, 0.406], \n",
    "                                                            [0.229, 0.224, 0.225])])\n",
    "\n",
    " )"
   ]
  },
  {
   "cell_type": "code",
   "execution_count": 7,
   "metadata": {},
   "outputs": [],
   "source": [
    "train_loader = torch.utils.data.DataLoader(train_set, batch_size=4, shuffle=True)"
   ]
  },
  {
   "cell_type": "code",
   "execution_count": 8,
   "metadata": {},
   "outputs": [],
   "source": [
    "classes = ('category 1','category 2','category 3','category 4')"
   ]
  },
  {
   "cell_type": "code",
   "execution_count": 9,
   "metadata": {},
   "outputs": [
    {
     "name": "stderr",
     "output_type": "stream",
     "text": [
      "WARNING:matplotlib.image:Clipping input data to the valid range for imshow with RGB data ([0..1] for floats or [0..255] for integers).\n"
     ]
    },
    {
     "name": "stdout",
     "output_type": "stream",
     "text": [
      "category 2 category 4 category 2 category 4\n"
     ]
    },
    {
     "data": {
      "image/png": "[encoded data removed]",
      "text/plain": [
       "<Figure size 432x288 with 1 Axes>"
      ]
     },
     "metadata": {
      "image/png": {
       "height": 118,
       "width": 377
      },
      "needs_background": "light"
     },
     "output_type": "display_data"
    }
   ],
   "source": [
    "import matplotlib.pyplot as plt\n",
    "import numpy as np\n",
    "\n",
    "# functions to show an image\n",
    "\n",
    "\n",
    "def imshow(img):\n",
    "    img = img / 2 + 0.5     # unnormalize\n",
    "    npimg = img.numpy()\n",
    "    plt.imshow(np.transpose(npimg, (1, 2, 0)))\n",
    "\n",
    "\n",
    "# get some random training images\n",
    "dataiter = iter(train_loader)\n",
    "images, labels = dataiter.next()\n",
    "\n",
    "# show images\n",
    "imshow(torchvision.utils.make_grid(images))\n",
    "# print labels\n",
    "print(' '.join('%5s' % classes[labels[j]] for j in range(4)))"
   ]
  },
  {
   "cell_type": "code",
   "execution_count": 10,
   "metadata": {},
   "outputs": [],
   "source": [
    "def get_num_correct(preds, labels):\n",
    "    return preds.argmax(dim=1).eq(labels).sum().item()\n"
   ]
  },
  {
   "cell_type": "code",
   "execution_count": 11,
   "metadata": {},
   "outputs": [],
   "source": [
    "class Network(nn.Module):\n",
    "    def __init__(self):\n",
    "        super(Network,self).__init__()\n",
    "        self.conv1 = nn.Conv2d(3, 6, kernel_size=5)\n",
    "        self.conv2 = nn.Conv2d(6, 12, kernel_size=5)\n",
    "        self.conv2_drop = nn.Dropout2d()\n",
    "        self.fc1 = nn.Linear(12*197*197, 120)\n",
    "        self.fc2 = nn.Linear(120, 60)\n",
    "\n",
    "\n",
    "    def forward(self, x):\n",
    "        x = F.relu(F.max_pool2d(self.conv1(x), 2))\n",
    "        x = F.relu(F.max_pool2d(self.conv2_drop(self.conv2(x)), 2))\n",
    "    # Reshaping the tensor to BATCH_SIZE x 320. Torch infers this from other dimensions when one of the parameter is -1.\n",
    "        x = x.view(-1, 12 * 197 * 197)\n",
    "        x = F.relu(self.fc1(x))\n",
    "        x = F.dropout(x)\n",
    "        x = self.fc2(x)\n",
    "        return x"
   ]
  },
  {
   "cell_type": "code",
   "execution_count": 12,
   "metadata": {},
   "outputs": [],
   "source": [
    "network = Network()"
   ]
  },
  {
   "cell_type": "code",
   "execution_count": 13,
   "metadata": {},
   "outputs": [
    {
     "name": "stdout",
     "output_type": "stream",
     "text": [
      "conv1.weight \t\t torch.Size([6, 3, 5, 5])\n",
      "conv1.bias \t\t torch.Size([6])\n",
      "conv2.weight \t\t torch.Size([12, 6, 5, 5])\n",
      "conv2.bias \t\t torch.Size([12])\n",
      "fc1.weight \t\t torch.Size([120, 465708])\n",
      "fc1.bias \t\t torch.Size([120])\n",
      "fc2.weight \t\t torch.Size([60, 120])\n",
      "fc2.bias \t\t torch.Size([60])\n"
     ]
    }
   ],
   "source": [
    "for name, param in network.named_parameters():\n",
    "    print(name,'\\t\\t',param.shape)"
   ]
  },
  {
   "cell_type": "code",
   "execution_count": 14,
   "metadata": {},
   "outputs": [],
   "source": [
    "train_loader = torch.utils.data.DataLoader(train_set, batch_size=40)\n",
    "optimizer = optim.SGD(network.parameters(), lr=0.001)\n",
    "  "
   ]
  },
  {
   "cell_type": "code",
   "execution_count": 15,
   "metadata": {},
   "outputs": [
    {
     "name": "stdout",
     "output_type": "stream",
     "text": [
      "epoch 0 total_correct: 121 loss: 41.761494636535645\n",
      "epoch 1 total_correct: 172 loss: 31.48314344882965\n",
      "epoch 2 total_correct: 164 loss: 29.7462557554245\n",
      "epoch 3 total_correct: 174 loss: 25.313972055912018\n",
      "epoch 4 total_correct: 173 loss: 24.077635884284973\n",
      "epoch 5 total_correct: 195 loss: 21.693854212760925\n",
      "epoch 6 total_correct: 184 loss: 19.207735896110535\n",
      "epoch 7 total_correct: 214 loss: 18.166834354400635\n",
      "epoch 8 total_correct: 204 loss: 18.276630461215973\n",
      "epoch 9 total_correct: 223 loss: 16.764476478099823\n",
      "epoch 10 total_correct: 220 loss: 16.164486944675446\n",
      "epoch 11 total_correct: 229 loss: 15.176079630851746\n",
      "epoch 12 total_correct: 254 loss: 14.592344164848328\n",
      "epoch 13 total_correct: 242 loss: 14.205197483301163\n",
      "epoch 14 total_correct: 254 loss: 13.150950193405151\n",
      "epoch 15 total_correct: 257 loss: 13.50049814581871\n",
      "epoch 16 total_correct: 253 loss: 12.975923866033554\n",
      "epoch 17 total_correct: 264 loss: 12.97935700416565\n",
      "epoch 18 total_correct: 263 loss: 13.310108602046967\n",
      "epoch 19 total_correct: 268 loss: 12.281865373253822\n",
      "epoch 20 total_correct: 284 loss: 11.445354551076889\n",
      "epoch 21 total_correct: 291 loss: 11.63415977358818\n",
      "epoch 22 total_correct: 284 loss: 11.286826059222221\n",
      "epoch 23 total_correct: 289 loss: 10.530187144875526\n",
      "epoch 24 total_correct: 313 loss: 10.336987227201462\n",
      "epoch 25 total_correct: 290 loss: 10.16169136762619\n",
      "epoch 26 total_correct: 323 loss: 10.100682199001312\n",
      "epoch 27 total_correct: 303 loss: 10.178495526313782\n",
      "epoch 28 total_correct: 312 loss: 9.812444508075714\n",
      "epoch 29 total_correct: 304 loss: 9.57093271613121\n",
      "epoch 30 total_correct: 310 loss: 8.525355398654938\n",
      "epoch 31 total_correct: 311 loss: 8.642164036631584\n",
      "epoch 32 total_correct: 310 loss: 8.857985809445381\n",
      "epoch 33 total_correct: 309 loss: 8.90853688120842\n",
      "epoch 34 total_correct: 336 loss: 8.357273638248444\n",
      "epoch 35 total_correct: 329 loss: 8.372551769018173\n",
      "epoch 36 total_correct: 323 loss: 8.490459620952606\n",
      "epoch 37 total_correct: 328 loss: 8.071088120341301\n",
      "epoch 38 total_correct: 332 loss: 7.503311291337013\n",
      "epoch 39 total_correct: 326 loss: 7.612647250294685\n",
      "epoch 40 total_correct: 335 loss: 7.432611018419266\n",
      "epoch 41 total_correct: 342 loss: 6.453653067350388\n",
      "epoch 42 total_correct: 340 loss: 7.33767306804657\n",
      "epoch 43 total_correct: 337 loss: 6.814278021454811\n",
      "epoch 44 total_correct: 346 loss: 6.465865045785904\n",
      "epoch 45 total_correct: 340 loss: 6.262330137193203\n",
      "epoch 46 total_correct: 342 loss: 6.341187044978142\n",
      "epoch 47 total_correct: 330 loss: 6.6948511600494385\n",
      "epoch 48 total_correct: 351 loss: 5.771584048867226\n",
      "epoch 49 total_correct: 339 loss: 6.392808988690376\n",
      "epoch 50 total_correct: 350 loss: 6.310095198452473\n",
      "epoch 51 total_correct: 349 loss: 5.755311086773872\n",
      "epoch 52 total_correct: 352 loss: 5.471192106604576\n",
      "epoch 53 total_correct: 353 loss: 5.302373990416527\n",
      "epoch 54 total_correct: 362 loss: 5.614051066339016\n",
      "epoch 55 total_correct: 353 loss: 5.579106651246548\n",
      "epoch 56 total_correct: 368 loss: 4.769755017012358\n",
      "epoch 57 total_correct: 372 loss: 4.659724801778793\n",
      "epoch 58 total_correct: 360 loss: 4.974843144416809\n",
      "epoch 59 total_correct: 369 loss: 4.778728768229485\n",
      "epoch 60 total_correct: 380 loss: 4.394221119582653\n",
      "epoch 61 total_correct: 363 loss: 4.517977938055992\n",
      "epoch 62 total_correct: 378 loss: 4.496564395725727\n",
      "epoch 63 total_correct: 377 loss: 4.118600748479366\n",
      "epoch 64 total_correct: 381 loss: 4.292211875319481\n",
      "epoch 65 total_correct: 387 loss: 3.9487064108252525\n",
      "epoch 66 total_correct: 385 loss: 4.0032141879200935\n",
      "epoch 67 total_correct: 389 loss: 3.7025764286518097\n",
      "epoch 68 total_correct: 390 loss: 3.2609978914260864\n",
      "epoch 69 total_correct: 386 loss: 3.6132798716425896\n"
     ]
    }
   ],
   "source": [
    "for epoch in range(70):\n",
    "\n",
    "    total_loss = 0\n",
    "    total_correct = 0\n",
    "\n",
    "    for batch in train_loader: # Get Batch # completed 6000 image in single epoch with \n",
    "                               # batch size 100 \n",
    "        images, labels = batch \n",
    "\n",
    "        preds = network(images) # Pass Batch\n",
    "        loss = F.cross_entropy(preds, labels) # Calculate Loss\n",
    "\n",
    "        optimizer.zero_grad() # doning zero grad value after every mini batch \n",
    "        loss.backward() # Calculate Gradients\n",
    "        optimizer.step() # Update Weights\n",
    "\n",
    "        total_loss += loss.item()\n",
    "        total_correct += get_num_correct(preds, labels)\n",
    "\n",
    "    print(\n",
    "        \"epoch\", epoch, \n",
    "        \"total_correct:\", total_correct, \n",
    "        \"loss:\", total_loss\n",
    "    )\n",
    "\n"
   ]
  },
  {
   "cell_type": "code",
   "execution_count": 16,
   "metadata": {},
   "outputs": [],
   "source": [
    "@torch.no_grad()\n",
    "def get_all_preds(model, loader):\n",
    "    all_preds = torch.tensor([])\n",
    "    for batch in prediction_loader:\n",
    "        images, labels = batch\n",
    "\n",
    "        preds = model(images)\n",
    "        all_preds = torch.cat((all_preds, preds),dim=0)\n",
    "    return all_preds"
   ]
  },
  {
   "cell_type": "code",
   "execution_count": 17,
   "metadata": {},
   "outputs": [],
   "source": [
    "with torch.no_grad():\n",
    "    prediction_loader = torch.utils.data.DataLoader(train_set, batch_size=4)\n",
    "    train_preds = get_all_preds(network, prediction_loader)"
   ]
  },
  {
   "cell_type": "code",
   "execution_count": 18,
   "metadata": {},
   "outputs": [],
   "source": [
    "import numpy\n",
    "train_set.targets = torch.from_numpy(numpy.array(train_set.targets, dtype='int64'))"
   ]
  },
  {
   "cell_type": "code",
   "execution_count": 19,
   "metadata": {},
   "outputs": [
    {
     "name": "stdout",
     "output_type": "stream",
     "text": [
      "total correct: 379\n",
      "accuracy: 0.8613636363636363\n"
     ]
    }
   ],
   "source": [
    "preds_correct = get_num_correct(train_preds, train_set.targets)\n",
    "\n",
    "print('total correct:', preds_correct)\n",
    "print('accuracy:', preds_correct / len(train_set))\n"
   ]
  },
  {
   "cell_type": "code",
   "execution_count": 20,
   "metadata": {},
   "outputs": [],
   "source": [
    "#pt_tensor_from_list = torch.FloatTensor(image_trainset.targets)"
   ]
  }
 ],
 "metadata": {
  "kernelspec": {
   "display_name": "Python 3",
   "language": "python",
   "name": "python3"
  },
  "language_info": {
   "codemirror_mode": {
    "name": "ipython",
    "version": 3
   },
   "file_extension": ".py",
   "mimetype": "text/x-python",
   "name": "python",
   "nbconvert_exporter": "python",
   "pygments_lexer": "ipython3",
   "version": "3.7.1"
  }
 },
 "nbformat": 4,
 "nbformat_minor": 2
}
